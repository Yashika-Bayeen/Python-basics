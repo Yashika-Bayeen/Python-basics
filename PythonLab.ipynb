{
 "cells": [
  {
   "cell_type": "code",
   "execution_count": 1,
   "id": "171ffc78-4fa3-4d5f-abf5-ace8e7aeadc2",
   "metadata": {},
   "outputs": [
    {
     "name": "stdout",
     "output_type": "stream",
     "text": [
      "Hello, World!\n"
     ]
    }
   ],
   "source": [
    "print(\"Hello, World!\")"
   ]
  },
  {
   "cell_type": "code",
   "execution_count": 6,
   "id": "4376394a-3758-479b-843e-e90ea354b736",
   "metadata": {},
   "outputs": [
    {
     "name": "stdin",
     "output_type": "stream",
     "text": [
      "What is your name? yashika\n"
     ]
    },
    {
     "name": "stdout",
     "output_type": "stream",
     "text": [
      "Hello yashika\n"
     ]
    }
   ],
   "source": [
    "name = input(\"What is your name?\")\n",
    "print(\"Hello\", name)"
   ]
  },
  {
   "cell_type": "code",
   "execution_count": 8,
   "id": "4fe2111e-518a-4b79-aeba-c586cf531564",
   "metadata": {},
   "outputs": [
    {
     "name": "stdin",
     "output_type": "stream",
     "text": [
      "What is your name? riya\n"
     ]
    },
    {
     "name": "stdout",
     "output_type": "stream",
     "text": [
      "I LIKE CAPITAL LETTER RIYA\n"
     ]
    }
   ],
   "source": [
    "name = input(\"What is your name?\")\n",
    "print(\"I LIKE CAPITAL LETTER\", name.upper())"
   ]
  },
  {
   "cell_type": "code",
   "execution_count": 12,
   "id": "e19b719b-3ec4-4fee-8e77-17196bbf5b8f",
   "metadata": {},
   "outputs": [
    {
     "name": "stdin",
     "output_type": "stream",
     "text": [
      "Enter the weight in kilogram:  5\n"
     ]
    },
    {
     "name": "stdout",
     "output_type": "stream",
     "text": [
      "The 5.0 kilogram to lbs is: 11.023\n"
     ]
    }
   ],
   "source": [
    "kg = float(input(\"Enter the weight in kilogram: \"))\n",
    "lbs = kg*2.2046\n",
    "print(f\"The {kg} kilogram to lbs is: {lbs}\")"
   ]
  },
  {
   "cell_type": "code",
   "execution_count": 18,
   "id": "a721770e-8eab-4068-8ddb-cfa5c406f23d",
   "metadata": {},
   "outputs": [
    {
     "name": "stdin",
     "output_type": "stream",
     "text": [
      "Enter the radius:  5\n"
     ]
    },
    {
     "name": "stdout",
     "output_type": "stream",
     "text": [
      "The circumference of the circle is:  31.400000000000002\n"
     ]
    }
   ],
   "source": [
    "radius = float(input(\"Enter the radius: \"))\n",
    "pi = 3.14\n",
    "c = 2*pi*radius\n",
    "print(f\"The circumference of the circle is: \", c)"
   ]
  },
  {
   "cell_type": "code",
   "execution_count": 30,
   "id": "55c053ad-0554-420d-872a-eced26dc1699",
   "metadata": {},
   "outputs": [],
   "source": [
    "a = 7\n",
    "a = a * 3\n",
    "a = a + 6\n",
    "a = a // 3\n",
    "number = a - 7"
   ]
  },
  {
   "cell_type": "code",
   "execution_count": 32,
   "id": "86a3a365-ed95-4d63-92db-b9e8bc7b6576",
   "metadata": {},
   "outputs": [
    {
     "data": {
      "text/plain": [
       "2"
      ]
     },
     "execution_count": 32,
     "metadata": {},
     "output_type": "execute_result"
    }
   ],
   "source": [
    "number"
   ]
  },
  {
   "cell_type": "code",
   "execution_count": 40,
   "id": "a285c72d-d3df-495a-a229-21d16225c8db",
   "metadata": {},
   "outputs": [
    {
     "name": "stdin",
     "output_type": "stream",
     "text": [
      "Enter a value:  2\n",
      "Enter another value:  3\n"
     ]
    },
    {
     "name": "stdout",
     "output_type": "stream",
     "text": [
      "The product of a and b is: 6\n"
     ]
    }
   ],
   "source": [
    "a = int(input(\"Enter a value: \"))\n",
    "b = int(input(\"Enter another value: \"))\n",
    "print(f\"The product of a and b is:\", a*b)"
   ]
  },
  {
   "cell_type": "code",
   "execution_count": 1,
   "id": "b51de161-db5b-418f-b6e9-8e01e0f3a775",
   "metadata": {},
   "outputs": [
    {
     "name": "stdin",
     "output_type": "stream",
     "text": [
      "Enter the year: 2000\n"
     ]
    },
    {
     "name": "stdout",
     "output_type": "stream",
     "text": [
      "The days 730000, hours 17520000, minutes 1051200000 and seconds 63072000000 has passed since you were born.\n"
     ]
    }
   ],
   "source": [
    "a = int(input('Enter the year:'))\n",
    "days = a*365\n",
    "hours = days*24\n",
    "minutes = hours*60\n",
    "seconds = minutes *60\n",
    "print(f'The days {days}, hours {hours}, minutes {minutes} and seconds {seconds} has passed since you were born.')"
   ]
  },
  {
   "cell_type": "code",
   "execution_count": 44,
   "id": "679def6d-90f8-4e45-9100-8295584dffd2",
   "metadata": {},
   "outputs": [
    {
     "name": "stdin",
     "output_type": "stream",
     "text": [
      "Enter the price: 150\n",
      "Enter the tip: 20\n"
     ]
    },
    {
     "name": "stdout",
     "output_type": "stream",
     "text": [
      "30.0\n"
     ]
    }
   ],
   "source": [
    "price = int(input(\"Enter the price:\"))\n",
    "percentage_tip = int(input(\"Enter the tip:\"))\n",
    "tip = price * percentage_tip/100\n",
    "round(tip, 2)\n",
    "print(tip)"
   ]
  },
  {
   "cell_type": "code",
   "execution_count": 1,
   "id": "3ada71b3-4af4-4586-b7f4-820b081b5609",
   "metadata": {},
   "outputs": [
    {
     "name": "stdin",
     "output_type": "stream",
     "text": [
      "Enter the hours:  3.5\n",
      "Enter the rate:  400\n"
     ]
    },
    {
     "name": "stdout",
     "output_type": "stream",
     "text": [
      "The groce_pay is:  1400\n"
     ]
    }
   ],
   "source": [
    "hours = float(input(\"Enter the hours: \"))\n",
    "rate = float(input(\"Enter the rate: \"))\n",
    "groce_pay = rate * hours\n",
    "print(f\"The groce_pay is: \", int(groce_pay))"
   ]
  },
  {
   "cell_type": "code",
   "execution_count": 3,
   "id": "e37fdc34-8500-4424-a216-0472234d34a2",
   "metadata": {},
   "outputs": [
    {
     "name": "stdin",
     "output_type": "stream",
     "text": [
      "Enter the hours:  45\n",
      "Enter the rate:  10\n"
     ]
    },
    {
     "name": "stdout",
     "output_type": "stream",
     "text": [
      "475\n"
     ]
    }
   ],
   "source": [
    "hours = float(input(\"Enter the hours: \"))\n",
    "rate = float(input(\"Enter the rate: \"))\n",
    "pay = hours * rate\n",
    "if(hours > 40):\n",
    " groce_pay = 40 * rate + (hours-40) * 1.5 * rate\n",
    "else:\n",
    "    pay\n",
    "print(int(groce_pay))"
   ]
  },
  {
   "cell_type": "code",
   "execution_count": 30,
   "id": "f10243bc-5e17-4a70-b4ea-b6ff9a9351ab",
   "metadata": {},
   "outputs": [
    {
     "name": "stdin",
     "output_type": "stream",
     "text": [
      "Enter the current market_price:  1000\n",
      "Enter your gender:  female\n",
      "Enter the car type:  sport car\n"
     ]
    },
    {
     "name": "stdout",
     "output_type": "stream",
     "text": [
      "210.0\n"
     ]
    }
   ],
   "source": [
    "market_price = float(input(\"Enter the current market_price: \"))\n",
    "gender = input(\"Enter your gender: \")\n",
    "if(gender == \"male\"):\n",
    "    age = int(input(\"Enter your age: \"))\n",
    "    if(age<=26):\n",
    "        yearly_price = 0.23 * market_price\n",
    "        print(yearly_price)\n",
    "    else:\n",
    "        yearly_price = 0.09 * market_price\n",
    "        print(yearly_price)\n",
    "elif(gender == \"female\"):\n",
    "    car_type = input(\"Enter the car type: \")\n",
    "    if(car_type == \"sport car\"):\n",
    "        yearly_price = 0.21 * market_price\n",
    "        print(yearly_price)\n",
    "    else:\n",
    "        yearly_price = 0.1 * market_price\n",
    "        print(yearly_price)\n",
    "else: \n",
    "    print(\"Wrong Format\")"
   ]
  },
  {
   "cell_type": "code",
   "execution_count": 42,
   "id": "af1b7770-7046-462f-b258-35e1fba3db8a",
   "metadata": {},
   "outputs": [
    {
     "name": "stdout",
     "output_type": "stream",
     "text": [
      "before:  23\n",
      "9 9\n",
      "3 3\n",
      "After:  3\n"
     ]
    }
   ],
   "source": [
    "smallest_so_far = 23\n",
    "print(\"before: \", smallest_so_far)\n",
    "for new_num in (9, 41, 12, 3, 74, 25):\n",
    "    if(new_num < smallest_so_far):\n",
    "        smallest_so_far = new_num\n",
    "        print(smallest_so_far, new_num)\n",
    "\n",
    "print(\"After: \", smallest_so_far)"
   ]
  },
  {
   "cell_type": "code",
   "execution_count": 53,
   "id": "12852b29-d55e-455d-a76c-d13c9247547f",
   "metadata": {},
   "outputs": [
    {
     "name": "stdout",
     "output_type": "stream",
     "text": [
      "before:  0\n",
      "thing 164\n"
     ]
    }
   ],
   "source": [
    "zork = 0\n",
    "print(\"before: \", zork)\n",
    "for thing in (9, 41,12, 3, 74, 25):\n",
    "     zork = zork + thing \n",
    "print(\"thing\", zork) \n"
   ]
  },
  {
   "cell_type": "code",
   "execution_count": 27,
   "id": "7a13f3e0-14e8-49e3-b338-7027ca5c66f1",
   "metadata": {},
   "outputs": [
    {
     "name": "stdout",
     "output_type": "stream",
     "text": [
      "475.0\n"
     ]
    }
   ],
   "source": [
    "#Rewrite your pay computation with time-and-a-half for overtime and create a function called compute pay which takes two parameters (hours and rate)\n",
    "def computepay(hours, rate):\n",
    "    if(hours > 40):\n",
    "        groce_pay = 40 * rate + (hours-40) * 1.5 * rate\n",
    "        print(groce_pay)\n",
    "    else:\n",
    "        groce_pay = hours * rate\n",
    "        print(groce_pay)\n",
    "computepay(45, 10)"
   ]
  },
  {
   "cell_type": "code",
   "execution_count": 42,
   "id": "fb4a9f8b-d1bb-4ad9-a9be-b765819704c2",
   "metadata": {},
   "outputs": [
    {
     "name": "stdout",
     "output_type": "stream",
     "text": [
      "fiction\n",
      "The jumbled word is: ['f', 'c', 'n', 'i', 'i', 'o', 't']\n"
     ]
    },
    {
     "name": "stdin",
     "output_type": "stream",
     "text": [
      "enter the guessed word: fiction\n"
     ]
    },
    {
     "name": "stdout",
     "output_type": "stream",
     "text": [
      "Correct guess\n"
     ]
    }
   ],
   "source": [
    "import random\n",
    "list = ['father', 'enterprise', 'science', 'programming', 'resistance', 'fiction', 'condition', 'reverse', 'computer', 'python']\n",
    "word = random.choice(list)\n",
    "print(word)\n",
    "jumbled = random.sample(word, len(word))\n",
    "print(\"The jumbled word is:\", jumbled)\n",
    "guess = input(\"enter the guessed word:\")\n",
    "if guess == word:\n",
    "    print(\"Correct guess\")\n",
    "else:\n",
    "    print(\"wrong guess\")\n"
   ]
  },
  {
   "cell_type": "code",
   "execution_count": 7,
   "id": "a5e7d2b6-0ebd-4ec2-9ca9-41fe0fa7cc75",
   "metadata": {},
   "outputs": [
    {
     "name": "stdout",
     "output_type": "stream",
     "text": [
      "[1, 2, 3]\n"
     ]
    }
   ],
   "source": [
    "def fibonacci_series(n):\n",
    "    if n == 1:\n",
    "        return [0]\n",
    "    if n == 2:\n",
    "        return [0, 1]\n",
    "\n",
    "    f1 = 0\n",
    "    f2 = 1\n",
    "    f_series = []\n",
    "    for i in range(2,5):\n",
    "        next_f = f1 + f2  \n",
    "        f_series.append(next_f)  \n",
    "        f1 = f2  \n",
    "        f2 = next_f  \n",
    "    print(f_series)\n",
    "fibonacci_series(6)"
   ]
  },
  {
   "cell_type": "code",
   "execution_count": null,
   "id": "97d2670d-f855-47b9-8e31-222c533da1ae",
   "metadata": {},
   "outputs": [],
   "source": []
  },
  {
   "cell_type": "code",
   "execution_count": 37,
   "id": "d63c4132-407d-432a-8827-ae01d853f0a8",
   "metadata": {},
   "outputs": [
    {
     "name": "stdout",
     "output_type": "stream",
     "text": [
      "Computer choice: paper\n"
     ]
    },
    {
     "name": "stdin",
     "output_type": "stream",
     "text": [
      "Enter your choice (rock, paper or scissor): scissor\n"
     ]
    },
    {
     "name": "stdout",
     "output_type": "stream",
     "text": [
      "The computer lost\n"
     ]
    }
   ],
   "source": [
    "import random\n",
    "\n",
    "choice = ['rock', 'paper', 'scissor']\n",
    "computer_choice = random.choice(choice)\n",
    "print(\"Computer choice:\", computer_choice)\n",
    "\n",
    "user_choice = input(\"Enter your choice (rock, paper or scissor):\")\n",
    "\n",
    "if user_choice not in choice:  \n",
    "    print(\"It's an invalid choice\")  \n",
    "else:  \n",
    "    if user_choice == computer_choice:  \n",
    "        print(\"It's a tie\")  \n",
    "    elif (user_choice == 'rock' and computer_choice == 'scissor') or \\\n",
    "         (user_choice == 'scissor' and computer_choice == 'paper') or \\\n",
    "         (user_choice == 'paper' and computer_choice == 'rock'):  \n",
    "        print(\"The computer lost\")  \n",
    "    else:  \n",
    "        print(\"The computer won\")"
   ]
  },
  {
   "cell_type": "code",
   "execution_count": null,
   "id": "f5dc8755-b873-47e6-96f6-188d114e2c4a",
   "metadata": {},
   "outputs": [],
   "source": []
  },
  {
   "cell_type": "code",
   "execution_count": 69,
   "id": "68596dae-2871-467c-a749-793f9f2d36fb",
   "metadata": {},
   "outputs": [
    {
     "name": "stdout",
     "output_type": "stream",
     "text": [
      "0, p\n",
      "1, i\n",
      "2, n\n",
      "3, e\n",
      "4, a\n",
      "5, p\n",
      "6, p\n",
      "7, l\n",
      "8, e\n"
     ]
    }
   ],
   "source": [
    "fruit = 'pineapple'\n",
    "for i in range(len(fruit)):\n",
    "    print(f\"{i}, {fruit[i]}\")"
   ]
  },
  {
   "cell_type": "code",
   "execution_count": 73,
   "id": "2a281345-ad52-4712-b4f6-816c1122cc77",
   "metadata": {},
   "outputs": [
    {
     "data": {
      "text/plain": [
       "['__add__',\n",
       " '__class__',\n",
       " '__contains__',\n",
       " '__delattr__',\n",
       " '__dir__',\n",
       " '__doc__',\n",
       " '__eq__',\n",
       " '__format__',\n",
       " '__ge__',\n",
       " '__getattribute__',\n",
       " '__getitem__',\n",
       " '__getnewargs__',\n",
       " '__getstate__',\n",
       " '__gt__',\n",
       " '__hash__',\n",
       " '__init__',\n",
       " '__init_subclass__',\n",
       " '__iter__',\n",
       " '__le__',\n",
       " '__len__',\n",
       " '__lt__',\n",
       " '__mod__',\n",
       " '__mul__',\n",
       " '__ne__',\n",
       " '__new__',\n",
       " '__reduce__',\n",
       " '__reduce_ex__',\n",
       " '__repr__',\n",
       " '__rmod__',\n",
       " '__rmul__',\n",
       " '__setattr__',\n",
       " '__sizeof__',\n",
       " '__str__',\n",
       " '__subclasshook__',\n",
       " 'capitalize',\n",
       " 'casefold',\n",
       " 'center',\n",
       " 'count',\n",
       " 'encode',\n",
       " 'endswith',\n",
       " 'expandtabs',\n",
       " 'find',\n",
       " 'format',\n",
       " 'format_map',\n",
       " 'index',\n",
       " 'isalnum',\n",
       " 'isalpha',\n",
       " 'isascii',\n",
       " 'isdecimal',\n",
       " 'isdigit',\n",
       " 'isidentifier',\n",
       " 'islower',\n",
       " 'isnumeric',\n",
       " 'isprintable',\n",
       " 'isspace',\n",
       " 'istitle',\n",
       " 'isupper',\n",
       " 'join',\n",
       " 'ljust',\n",
       " 'lower',\n",
       " 'lstrip',\n",
       " 'maketrans',\n",
       " 'partition',\n",
       " 'removeprefix',\n",
       " 'removesuffix',\n",
       " 'replace',\n",
       " 'rfind',\n",
       " 'rindex',\n",
       " 'rjust',\n",
       " 'rpartition',\n",
       " 'rsplit',\n",
       " 'rstrip',\n",
       " 'split',\n",
       " 'splitlines',\n",
       " 'startswith',\n",
       " 'strip',\n",
       " 'swapcase',\n",
       " 'title',\n",
       " 'translate',\n",
       " 'upper',\n",
       " 'zfill']"
      ]
     },
     "execution_count": 73,
     "metadata": {},
     "output_type": "execute_result"
    }
   ],
   "source": [
    "a ='star'\n",
    "dir(a)"
   ]
  },
  {
   "cell_type": "code",
   "execution_count": 75,
   "id": "74ec7762-60c5-447d-b52a-982196688a2e",
   "metadata": {},
   "outputs": [
    {
     "data": {
      "text/plain": [
       "'STAR'"
      ]
     },
     "execution_count": 75,
     "metadata": {},
     "output_type": "execute_result"
    }
   ],
   "source": [
    "a.upper()"
   ]
  },
  {
   "cell_type": "code",
   "execution_count": 89,
   "id": "81da1f16-a98b-4fb3-a67d-a07d93421927",
   "metadata": {},
   "outputs": [
    {
     "data": {
      "text/plain": [
       "'Stars are shining today'"
      ]
     },
     "execution_count": 89,
     "metadata": {},
     "output_type": "execute_result"
    }
   ],
   "source": [
    "a= 'stars are shining today'\n",
    "a.capitalize()"
   ]
  },
  {
   "cell_type": "code",
   "execution_count": 91,
   "id": "cd73049b-367c-4cfc-8724-e423dac18383",
   "metadata": {},
   "outputs": [
    {
     "data": {
      "text/plain": [
       "'Stars Are Shining Today'"
      ]
     },
     "execution_count": 91,
     "metadata": {},
     "output_type": "execute_result"
    }
   ],
   "source": [
    "a.title()"
   ]
  },
  {
   "cell_type": "code",
   "execution_count": 93,
   "id": "3326c414-5463-408e-9c2c-73783a5f6fa4",
   "metadata": {},
   "outputs": [
    {
     "data": {
      "text/plain": [
       "'stars are dull today'"
      ]
     },
     "execution_count": 93,
     "metadata": {},
     "output_type": "execute_result"
    }
   ],
   "source": [
    "a.replace('shining', 'dull')"
   ]
  },
  {
   "cell_type": "code",
   "execution_count": 111,
   "id": "eeab0718-4739-45d7-b4db-277789e35cf0",
   "metadata": {},
   "outputs": [
    {
     "data": {
      "text/plain": [
       "'stars shine'"
      ]
     },
     "execution_count": 111,
     "metadata": {},
     "output_type": "execute_result"
    }
   ],
   "source": [
    "a = '   stars shine   '\n",
    "a.lstrip()"
   ]
  },
  {
   "cell_type": "code",
   "execution_count": 129,
   "id": "8d94cc3f-a919-4de3-93f3-a01cef9f3bf9",
   "metadata": {},
   "outputs": [
    {
     "data": {
      "text/plain": [
       "'   stars shine'"
      ]
     },
     "execution_count": 129,
     "metadata": {},
     "output_type": "execute_result"
    }
   ],
   "source": [
    "a = '   stars shine   '\n",
    "a.rstrip()"
   ]
  },
  {
   "cell_type": "code",
   "execution_count": null,
   "id": "1e336c3b-4010-4eb1-be41-89cb139db3cb",
   "metadata": {},
   "outputs": [],
   "source": [
    "a = 'From stephen.marquard@uct.ac.za Sat Jan 5 09:14:16 2008'\n",
    "index = a.find('@')\n",
    "domain = a[index:]\n",
    "end = domain.find(' ')\n",
    "while end != -1:\n",
    "    domain = domain[:end]\n",
    "print(domain)"
   ]
  },
  {
   "cell_type": "code",
   "execution_count": null,
   "id": "e36695cc-d564-474f-bd0a-e55cca391e20",
   "metadata": {},
   "outputs": [],
   "source": []
  },
  {
   "cell_type": "code",
   "execution_count": 180,
   "id": "f476c85a-47ce-437d-8949-1ef76b481c0d",
   "metadata": {},
   "outputs": [
    {
     "name": "stdout",
     "output_type": "stream",
     "text": [
      "uct.ac.za\n"
     ]
    }
   ],
   "source": [
    "a = 'From stephen.marquard@uct.ac.za Sat Jan 5 09:14:16 2008'  \n",
    "index = a.find('@')  \n",
    "domain = a[index+1:]  # Get the substring starting from '@'  \n",
    "end_index = domain.find(' ')  \n",
    "if end_index != -1:  \n",
    "    domain = domain[:end_index]  \n",
    "print(domain)"
   ]
  },
  {
   "cell_type": "code",
   "execution_count": 11,
   "id": "3c8eb524-992c-4ab3-9ce0-aac673e05ccd",
   "metadata": {},
   "outputs": [
    {
     "data": {
      "text/plain": [
       "(str, tuple)"
      ]
     },
     "execution_count": 11,
     "metadata": {},
     "output_type": "execute_result"
    }
   ],
   "source": [
    "b = ('a',) #single tuple creation\n",
    "c = ('d')\n",
    "type(c), type(b)"
   ]
  },
  {
   "cell_type": "code",
   "execution_count": 15,
   "id": "be949a08-faa7-48b5-8d1a-e29e65348784",
   "metadata": {},
   "outputs": [
    {
     "name": "stdout",
     "output_type": "stream",
     "text": [
      "30 20\n"
     ]
    }
   ],
   "source": [
    "a = 20\n",
    "b = 30\n",
    "(a, b) =(b, a)\n",
    "print(a, b)"
   ]
  },
  {
   "cell_type": "code",
   "execution_count": null,
   "id": "62748131-5621-466a-83bf-39c6cc53bcc1",
   "metadata": {},
   "outputs": [],
   "source": [
    "list = input(\"Enter the list elements: \").split(',')\n",
    "tuple = tuple(list.strip() for elements in list)\n",
    "\n",
    "user_choice = input(\"Enter the choice of user\")\n",
    "if user_choice in tuple:\n",
    "    print(f\"{user_choice} is present in tuple:\")\n",
    "else:\n",
    "    print(f\"{user_choice} is present:\")"
   ]
  },
  {
   "cell_type": "code",
   "execution_count": null,
   "id": "e8bbc081-644e-4520-8d8a-d9d3c75a1d6c",
   "metadata": {},
   "outputs": [],
   "source": [
    "#Write a program to add an element to tuple based on the user given value in a specifix index, "
   ]
  },
  {
   "cell_type": "code",
   "execution_count": 1,
   "id": "39afb259-f8ee-43e9-a6fb-b4b3e0a4ac72",
   "metadata": {},
   "outputs": [
    {
     "name": "stdin",
     "output_type": "stream",
     "text": [
      "Enter your name:  \n"
     ]
    },
    {
     "name": "stdout",
     "output_type": "stream",
     "text": [
      "\n",
      "35000\n"
     ]
    }
   ],
   "source": [
    "#Create class\n",
    "class Employee:\n",
    "    pass \n",
    "#create instance of the class\n",
    "emp_1 = Employee()\n",
    "#Take input\n",
    "name = input(\"Enter your name: \")\n",
    "#Assign name to the first instance\n",
    "emp_1.name = name\n",
    "#Assign salary to the first instance\n",
    "emp_1.salary = 35000\n",
    "#Print\n",
    "print(emp_1.name)\n",
    "print(emp_1.salary)"
   ]
  },
  {
   "cell_type": "code",
   "execution_count": 3,
   "id": "0c96033a-f474-4f8f-a628-4ab368654b79",
   "metadata": {},
   "outputs": [
    {
     "data": {
      "text/plain": [
       "__main__.Employee"
      ]
     },
     "execution_count": 3,
     "metadata": {},
     "output_type": "execute_result"
    }
   ],
   "source": [
    "type(emp_1)"
   ]
  },
  {
   "cell_type": "code",
   "execution_count": 7,
   "id": "53f85ce9-6e94-4135-91b4-9188e5f9d20a",
   "metadata": {},
   "outputs": [
    {
     "name": "stdin",
     "output_type": "stream",
     "text": [
      "Enter your name:  yashika\n",
      "Enter department name:  m.tech\n",
      "Enter Salary:  2000\n"
     ]
    },
    {
     "name": "stdout",
     "output_type": "stream",
     "text": [
      "yashika\n",
      "m.tech\n",
      "2000\n"
     ]
    }
   ],
   "source": [
    "#Self\n",
    "class Manager:\n",
    "    def __init__(self, name, department, salary):\n",
    "        self.name = name\n",
    "        self.department = department\n",
    "        self.salary = salary\n",
    "\n",
    "name = input(\"Enter your name: \")\n",
    "department = input(\"Enter department name: \")\n",
    "salary = int(input(\"Enter Salary: \"))\n",
    "#Create object of the class\n",
    "manager_1 = Manager(name, department, salary)\n",
    "print(manager_1.name)\n",
    "print(manager_1.department)\n",
    "print(manager_1.salary)"
   ]
  },
  {
   "cell_type": "code",
   "execution_count": 9,
   "id": "6c27995e-fbb0-4dfa-be72-5340e992a33c",
   "metadata": {},
   "outputs": [
    {
     "name": "stdin",
     "output_type": "stream",
     "text": [
      "Enter car name:  jazz\n"
     ]
    },
    {
     "name": "stdout",
     "output_type": "stream",
     "text": [
      "Name of the car is:  jazz\n"
     ]
    }
   ],
   "source": [
    "class Car:\n",
    "    def setName(self, name):\n",
    "        self.name = name\n",
    "    def getName(self):\n",
    "        return self.name\n",
    "\n",
    "Honda = Car()\n",
    "carname = input(\"Enter car name: \")\n",
    "Honda.setName(carname)\n",
    "print(\"Name of the car is: \", Honda.getName())"
   ]
  },
  {
   "cell_type": "code",
   "execution_count": 21,
   "id": "d7c113a2-fb5e-4b08-973e-e7f8d9507150",
   "metadata": {},
   "outputs": [
    {
     "name": "stdin",
     "output_type": "stream",
     "text": [
      "Enter the name:  yash\n",
      "Enter your age:  20\n"
     ]
    },
    {
     "name": "stdout",
     "output_type": "stream",
     "text": [
      "yash\n",
      "20\n"
     ]
    },
    {
     "name": "stdin",
     "output_type": "stream",
     "text": [
      "Enter the name:  riya\n",
      "Enter your age:  19\n"
     ]
    },
    {
     "name": "stdout",
     "output_type": "stream",
     "text": [
      "riya\n",
      "19\n"
     ]
    }
   ],
   "source": [
    "class Student:\n",
    "    def __init__(self, name, age):\n",
    "        self.name = name\n",
    "        self.age = age\n",
    "        \n",
    "name = input(\"Enter name of student1: \")\n",
    "age = int(input(\"Enter age of student1: \"))\n",
    "Student1 = Student(name, age)\n",
    "print(Student1.name)\n",
    "print(Student1.age)\n",
    "name = input(\"Enter name of student2: \")\n",
    "age = int(input(\"Enter age of student2: \"))\n",
    "Student2 = Student(name, age)\n",
    "print(Student2.name)\n",
    "print(Student2.age)"
   ]
  },
  {
   "cell_type": "code",
   "execution_count": 23,
   "id": "ef2cbdcb-5317-43b6-b342-db22a8f0a3e8",
   "metadata": {},
   "outputs": [
    {
     "name": "stdout",
     "output_type": "stream",
     "text": [
      "Current items in cart:\n",
      "Orange - 100\n",
      "Lemon - 10\n",
      "Apple - 50\n",
      "Watermelon - 30\n",
      "Orange removed from the cart.\n",
      "Current items in cart:\n",
      "Lemon - 10\n",
      "Apple - 50\n",
      "Watermelon - 30\n",
      "Total price: 90\n"
     ]
    }
   ],
   "source": [
    "class ShoppingCart:\n",
    "    def __init__(self):\n",
    "        self.items = []  \n",
    "     \n",
    "    def add_item(self, item, price):\n",
    "        self.items.append((item, price))\n",
    "        \n",
    "    def remove_item(self, item):\n",
    "        for cart_item in self.items:\n",
    "            if cart_item[0] == item:\n",
    "                self.items.remove(cart_item)\n",
    "                print(f\"{item} removed from the cart.\")\n",
    "                return\n",
    "        print(f\"Item '{item}' not found in the cart.\")\n",
    "\n",
    "    def total_price(self):\n",
    "        total = 0\n",
    "        if cart_item in self.items:\n",
    "            for item, price in self.items:\n",
    "                total += price\n",
    "            return total\n",
    "        else:\n",
    "            print(\"The cart is empty.\")\n",
    "\n",
    "    def display_items(self):\n",
    "        if self.items:\n",
    "            print(\"Current items in cart:\")\n",
    "            for item, price in self.items:\n",
    "                print(f\"{item} - {price}\")\n",
    "        else:\n",
    "            print(\"Cart is empty.\")\n",
    "    \n",
    "cart = ShoppingCart()\n",
    "cart.add_item(\"Orange\", 100)\n",
    "cart.add_item(\"Lemon\", 10)\n",
    "cart.add_item(\"Apple\", 50)\n",
    "cart.add_item(\"Watermelon\", 30)\n",
    "\n",
    "cart.display_items()\n",
    "cart.remove_item(\"Orange\")\n",
    "cart.display_items()\n",
    "\n",
    "print(f\"Total price: {cart.total_price()}\")\n"
   ]
  },
  {
   "cell_type": "code",
   "execution_count": 19,
   "id": "22d4dc7a-409f-40ea-87c0-80bd6d024365",
   "metadata": {},
   "outputs": [
    {
     "name": "stdin",
     "output_type": "stream",
     "text": [
      "Enter the number(a):  10\n",
      "Enter the number(b):  0\n"
     ]
    },
    {
     "name": "stdout",
     "output_type": "stream",
     "text": [
      "kindly enter non zero value of b\n"
     ]
    }
   ],
   "source": [
    "#Exception handling\n",
    "try:\n",
    "    a = int(input(\"Enter the number(a): \"))\n",
    "    b = int(input(\"Enter the number(b): \"))\n",
    "    div = a/b\n",
    "    print(div)\n",
    "except:\n",
    "    print(\"kindly enter non zero value of b\")"
   ]
  },
  {
   "cell_type": "code",
   "execution_count": 21,
   "id": "c080178a-7f17-43cd-b7d8-c68ff96a10a0",
   "metadata": {},
   "outputs": [
    {
     "name": "stdin",
     "output_type": "stream",
     "text": [
      "Enter the number(a):  10\n",
      "Enter the number(b):  0\n"
     ]
    },
    {
     "ename": "ZeroDivisionError",
     "evalue": "division by zero",
     "output_type": "error",
     "traceback": [
      "\u001b[1;31m---------------------------------------------------------------------------\u001b[0m",
      "\u001b[1;31mZeroDivisionError\u001b[0m                         Traceback (most recent call last)",
      "Cell \u001b[1;32mIn[21], line 3\u001b[0m\n\u001b[0;32m      1\u001b[0m a \u001b[38;5;241m=\u001b[39m \u001b[38;5;28mint\u001b[39m(\u001b[38;5;28minput\u001b[39m(\u001b[38;5;124m\"\u001b[39m\u001b[38;5;124mEnter the number(a): \u001b[39m\u001b[38;5;124m\"\u001b[39m))\n\u001b[0;32m      2\u001b[0m b \u001b[38;5;241m=\u001b[39m \u001b[38;5;28mint\u001b[39m(\u001b[38;5;28minput\u001b[39m(\u001b[38;5;124m\"\u001b[39m\u001b[38;5;124mEnter the number(b): \u001b[39m\u001b[38;5;124m\"\u001b[39m))\n\u001b[1;32m----> 3\u001b[0m div \u001b[38;5;241m=\u001b[39m \u001b[43ma\u001b[49m\u001b[38;5;241;43m/\u001b[39;49m\u001b[43mb\u001b[49m\n\u001b[0;32m      4\u001b[0m \u001b[38;5;28mprint\u001b[39m(div)\n",
      "\u001b[1;31mZeroDivisionError\u001b[0m: division by zero"
     ]
    }
   ],
   "source": [
    "a = int(input(\"Enter the number(a): \"))\n",
    "b = int(input(\"Enter the number(b): \"))\n",
    "div = a/b\n",
    "print(div)"
   ]
  },
  {
   "cell_type": "code",
   "execution_count": 1,
   "id": "77b1d259-168e-49b7-bdd6-db59ca4ffb47",
   "metadata": {},
   "outputs": [
    {
     "name": "stdin",
     "output_type": "stream",
     "text": [
      "Enter the number(a):  FOUR\n"
     ]
    },
    {
     "name": "stdout",
     "output_type": "stream",
     "text": [
      "Invalid input kindly enter integer value\n"
     ]
    }
   ],
   "source": [
    "#Exception handling\n",
    "try:\n",
    "    a = int(input(\"Enter the number(a): \"))\n",
    "    b = int(input(\"Enter the number(b): \"))\n",
    "    div = a/b\n",
    "    print(div)\n",
    "except ZeroDivisionError:\n",
    "    print(\"kindly enter non zero value of b\")\n",
    "except ValueError:\n",
    "    print(\"Invalid input kindly enter integer value\")"
   ]
  },
  {
   "cell_type": "code",
   "execution_count": null,
   "id": "617ca1c9-5484-48a7-af88-24a198e767c1",
   "metadata": {},
   "outputs": [],
   "source": []
  },
  {
   "cell_type": "code",
   "execution_count": 9,
   "id": "fcebd6d2-8047-46df-bcb4-f00cddc02e33",
   "metadata": {},
   "outputs": [
    {
     "name": "stdin",
     "output_type": "stream",
     "text": [
      "Enter a whole number:  09\n"
     ]
    },
    {
     "name": "stdout",
     "output_type": "stream",
     "text": [
      "you enter the whole number\n"
     ]
    },
    {
     "name": "stdin",
     "output_type": "stream",
     "text": [
      "Enter a whole number:  -3\n"
     ]
    },
    {
     "name": "stdout",
     "output_type": "stream",
     "text": [
      "you enter the whole number\n"
     ]
    },
    {
     "name": "stdin",
     "output_type": "stream",
     "text": [
      "Enter a whole number:  4.5\\\n"
     ]
    },
    {
     "name": "stdout",
     "output_type": "stream",
     "text": [
      "you must enter a whole number!\n"
     ]
    },
    {
     "name": "stdin",
     "output_type": "stream",
     "text": [
      "Enter your choice (y/n)?  n\n"
     ]
    },
    {
     "name": "stdout",
     "output_type": "stream",
     "text": [
      "ok, see you next time!\n"
     ]
    }
   ],
   "source": [
    "#Write program that repeatedly asks for a whole number input, handling exceptions and allowing users to retry or exit based on their choices.\n",
    "#Firstly, used a while loop to keep prompting the user until they enter a valid whole number. Inside the loop, used a try block to attempt to convert\n",
    "#the user's input to an integer. If the conversion raises a ValueError, print \"you must enter a whole number!\" and proceed to ask if the user wants to \n",
    "#try again (y/n)?. If the user enters \"y\" (yes), the program should continue the loop. If the user enters \"n\" (no), or if they enter anything other than\n",
    "#\"y\", the program should print \"ok, see you next time!\" and exit the loop. If the user interrupts the program with a keyboard interrupt (CTRL+C), catch \n",
    "#the KeyboardInterrupt exception, print \"You pressed Ctrl+C! See you next time!\" and exit the loop.\n",
    "\n",
    "def whole_number():\n",
    "    while True:\n",
    "        try:\n",
    "            user_input = input(\"Enter a whole number: \")\n",
    "            number = int(user_input)\n",
    "            print(\"you enter the whole number\")\n",
    "        except ValueError:\n",
    "            print(\"you must enter a whole number!\")\n",
    "            try:\n",
    "                b = input(\"Enter your choice (y/n)? \")\n",
    "                if b == \"y\":\n",
    "                    print(\"Let's try again:\")\n",
    "                    continue\n",
    "                else:\n",
    "                    print(\"ok, see you next time!\")\n",
    "                    return\n",
    "            except KeyboardInterrupt:\n",
    "                print(\"You pressed Ctrl+C! See you next time!\")\n",
    "\n",
    "whole_number()"
   ]
  },
  {
   "cell_type": "code",
   "execution_count": null,
   "id": "e492e52b-14a6-4e49-8da3-12bed8cd6f71",
   "metadata": {},
   "outputs": [],
   "source": []
  },
  {
   "cell_type": "code",
   "execution_count": 19,
   "id": "e3a89881-07df-4d6e-9dc3-090140510a2f",
   "metadata": {},
   "outputs": [
    {
     "name": "stdin",
     "output_type": "stream",
     "text": [
      "Enter a whole number:  10\n"
     ]
    },
    {
     "name": "stdout",
     "output_type": "stream",
     "text": [
      "you enter the whole number\n"
     ]
    },
    {
     "name": "stdin",
     "output_type": "stream",
     "text": [
      "Enter a whole number:  5\n"
     ]
    },
    {
     "name": "stdout",
     "output_type": "stream",
     "text": [
      "you enter the whole number\n"
     ]
    },
    {
     "name": "stdin",
     "output_type": "stream",
     "text": [
      "Enter a whole number:  0.4\n"
     ]
    },
    {
     "name": "stdout",
     "output_type": "stream",
     "text": [
      "you must enter a whole number!\n"
     ]
    },
    {
     "name": "stdin",
     "output_type": "stream",
     "text": [
      "Enter your choice (y/n)?  n\n"
     ]
    },
    {
     "name": "stdout",
     "output_type": "stream",
     "text": [
      "ok, see you next time!\n"
     ]
    }
   ],
   "source": [
    "while True:\n",
    "    try:\n",
    "        user_input = input(\"Enter a whole number: \")\n",
    "        number = int(user_input)\n",
    "        print(\"you enter the whole number\")\n",
    "    except ValueError:\n",
    "        print(\"you must enter a whole number!\")\n",
    "        try:\n",
    "            b = input(\"Enter your choice (y/n)? \")\n",
    "            if b == \"y\":\n",
    "                print(\"Let's try again:\")\n",
    "                continue\n",
    "            else:\n",
    "                print(\"ok, see you next time!\")\n",
    "                break\n",
    "                    \n",
    "        except KeyboardInterrupt:\n",
    "            print(\"You pressed Ctrl+C! See you next time!\")"
   ]
  },
  {
   "cell_type": "code",
   "execution_count": 21,
   "id": "588f76d6-0d16-4c2d-afe3-9bdd2a0fdc6d",
   "metadata": {},
   "outputs": [
    {
     "name": "stdin",
     "output_type": "stream",
     "text": [
      "Enter your age -6\n"
     ]
    },
    {
     "name": "stdout",
     "output_type": "stream",
     "text": [
      "Age cannot be less than zero\n",
      "Excecuted in any condition\n"
     ]
    }
   ],
   "source": [
    "try:\n",
    "    age = int(input(\"Enter your age\"))\n",
    "    if age < 0:\n",
    "        raise ValueError(\"Age cannot be negative\")\n",
    "    print(f\"Age when doubled {age * 2}\")\n",
    "except ValueError:\n",
    "    print(\"Age cannot be less than zero\")\n",
    "finally:\n",
    "    print(\"Excecuted in any condition\")"
   ]
  },
  {
   "cell_type": "code",
   "execution_count": 13,
   "id": "eb77bd7e-40bc-42ae-ae66-85f710480fe5",
   "metadata": {},
   "outputs": [
    {
     "name": "stdin",
     "output_type": "stream",
     "text": [
      "Enter value of a:  6\n",
      "Enter value of b:  2\n"
     ]
    },
    {
     "ename": "NameError",
     "evalue": "name 'self' is not defined",
     "output_type": "error",
     "traceback": [
      "\u001b[1;31m---------------------------------------------------------------------------\u001b[0m",
      "\u001b[1;31mNameError\u001b[0m                                 Traceback (most recent call last)",
      "Cell \u001b[1;32mIn[13], line 16\u001b[0m\n\u001b[0;32m     13\u001b[0m     \u001b[38;5;28;01mexcept\u001b[39;00m OurException \u001b[38;5;28;01mas\u001b[39;00m err:\n\u001b[0;32m     14\u001b[0m         \u001b[38;5;28mprint\u001b[39m(\u001b[38;5;124m\"\u001b[39m\u001b[38;5;124mraised an user defined exception\u001b[39m\u001b[38;5;124m\"\u001b[39m, err\u001b[38;5;241m.\u001b[39mmessage)\n\u001b[1;32m---> 16\u001b[0m UsingUserException(\u001b[38;5;28;43mself\u001b[39;49m\u001b[38;5;241m.\u001b[39mmessage)\n",
      "\u001b[1;31mNameError\u001b[0m: name 'self' is not defined"
     ]
    }
   ],
   "source": [
    "class OurException(Exception):\n",
    "    def __init__(self, message):\n",
    "        self.message = message\n",
    "\n",
    "class UsingUserException(OurException):\n",
    "    try:\n",
    "        a = int(input(\"Enter value of a: \"))\n",
    "        b = int(input(\"Enter value of b: \"))\n",
    "        if b == 0:\n",
    "            raise OurException(\"b should be greater than zero\")\n",
    "            d = a/b\n",
    "            print(f\"Division operation successful {d}\")\n",
    "    except OurException as err:\n",
    "        print(\"raised an user defined exception\", err.message)\n",
    "        \n",
    "UsingUserException()"
   ]
  },
  {
   "cell_type": "code",
   "execution_count": null,
   "id": "e5643fc4-8913-4070-982d-5158a2332781",
   "metadata": {},
   "outputs": [],
   "source": []
  }
 ],
 "metadata": {
  "kernelspec": {
   "display_name": "Python 3 (ipykernel)",
   "language": "python",
   "name": "python3"
  },
  "language_info": {
   "codemirror_mode": {
    "name": "ipython",
    "version": 3
   },
   "file_extension": ".py",
   "mimetype": "text/x-python",
   "name": "python",
   "nbconvert_exporter": "python",
   "pygments_lexer": "ipython3",
   "version": "3.12.4"
  }
 },
 "nbformat": 4,
 "nbformat_minor": 5
}
