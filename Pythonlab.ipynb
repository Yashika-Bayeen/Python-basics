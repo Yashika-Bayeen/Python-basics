{
 "cells": [
  {
   "cell_type": "code",
   "execution_count": 1,
   "id": "171ffc78-4fa3-4d5f-abf5-ace8e7aeadc2",
   "metadata": {},
   "outputs": [
    {
     "name": "stdout",
     "output_type": "stream",
     "text": [
      "Hello, World!\n"
     ]
    }
   ],
   "source": [
    "print(\"Hello, World!\")"
   ]
  },
  {
   "cell_type": "code",
   "execution_count": 6,
   "id": "4376394a-3758-479b-843e-e90ea354b736",
   "metadata": {},
   "outputs": [
    {
     "name": "stdin",
     "output_type": "stream",
     "text": [
      "What is your name? yashika\n"
     ]
    },
    {
     "name": "stdout",
     "output_type": "stream",
     "text": [
      "Hello yashika\n"
     ]
    }
   ],
   "source": [
    "name = input(\"What is your name?\")\n",
    "print(\"Hello\", name)"
   ]
  },
  {
   "cell_type": "code",
   "execution_count": 8,
   "id": "4fe2111e-518a-4b79-aeba-c586cf531564",
   "metadata": {},
   "outputs": [
    {
     "name": "stdin",
     "output_type": "stream",
     "text": [
      "What is your name? riya\n"
     ]
    },
    {
     "name": "stdout",
     "output_type": "stream",
     "text": [
      "I LIKE CAPITAL LETTER RIYA\n"
     ]
    }
   ],
   "source": [
    "name = input(\"What is your name?\")\n",
    "print(\"I LIKE CAPITAL LETTER\", name.upper())"
   ]
  },
  {
   "cell_type": "code",
   "execution_count": 12,
   "id": "e19b719b-3ec4-4fee-8e77-17196bbf5b8f",
   "metadata": {},
   "outputs": [
    {
     "name": "stdin",
     "output_type": "stream",
     "text": [
      "Enter the weight in kilogram:  5\n"
     ]
    },
    {
     "name": "stdout",
     "output_type": "stream",
     "text": [
      "The 5.0 kilogram to lbs is: 11.023\n"
     ]
    }
   ],
   "source": [
    "kg = float(input(\"Enter the weight in kilogram: \"))\n",
    "lbs = kg*2.2046\n",
    "print(f\"The {kg} kilogram to lbs is: {lbs}\")"
   ]
  },
  {
   "cell_type": "code",
   "execution_count": 18,
   "id": "a721770e-8eab-4068-8ddb-cfa5c406f23d",
   "metadata": {},
   "outputs": [
    {
     "name": "stdin",
     "output_type": "stream",
     "text": [
      "Enter the radius:  5\n"
     ]
    },
    {
     "name": "stdout",
     "output_type": "stream",
     "text": [
      "The circumference of the circle is:  31.400000000000002\n"
     ]
    }
   ],
   "source": [
    "radius = float(input(\"Enter the radius: \"))\n",
    "pi = 3.14\n",
    "c = 2*pi*radius\n",
    "print(f\"The circumference of the circle is: \", c)"
   ]
  },
  {
   "cell_type": "code",
   "execution_count": 30,
   "id": "55c053ad-0554-420d-872a-eced26dc1699",
   "metadata": {},
   "outputs": [],
   "source": [
    "a = 7\n",
    "a = a * 3\n",
    "a = a + 6\n",
    "a = a // 3\n",
    "number = a - 7"
   ]
  },
  {
   "cell_type": "code",
   "execution_count": 32,
   "id": "86a3a365-ed95-4d63-92db-b9e8bc7b6576",
   "metadata": {},
   "outputs": [
    {
     "data": {
      "text/plain": [
       "2"
      ]
     },
     "execution_count": 32,
     "metadata": {},
     "output_type": "execute_result"
    }
   ],
   "source": [
    "number"
   ]
  },
  {
   "cell_type": "code",
   "execution_count": 40,
   "id": "a285c72d-d3df-495a-a229-21d16225c8db",
   "metadata": {},
   "outputs": [
    {
     "name": "stdin",
     "output_type": "stream",
     "text": [
      "Enter a value:  2\n",
      "Enter another value:  3\n"
     ]
    },
    {
     "name": "stdout",
     "output_type": "stream",
     "text": [
      "The product of a and b is: 6\n"
     ]
    }
   ],
   "source": [
    "a = int(input(\"Enter a value: \"))\n",
    "b = int(input(\"Enter another value: \"))\n",
    "print(f\"The product of a and b is:\", a*b)"
   ]
  },
  {
   "cell_type": "code",
   "execution_count": 1,
   "id": "b51de161-db5b-418f-b6e9-8e01e0f3a775",
   "metadata": {},
   "outputs": [
    {
     "name": "stdin",
     "output_type": "stream",
     "text": [
      "Enter the year: 2000\n"
     ]
    },
    {
     "name": "stdout",
     "output_type": "stream",
     "text": [
      "The days 730000, hours 17520000, minutes 1051200000 and seconds 63072000000 has passed since you were born.\n"
     ]
    }
   ],
   "source": [
    "a = int(input('Enter the year:'))\n",
    "days = a*365\n",
    "hours = days*24\n",
    "minutes = hours*60\n",
    "seconds = minutes *60\n",
    "print(f'The days {days}, hours {hours}, minutes {minutes} and seconds {seconds} has passed since you were born.')"
   ]
  },
  {
   "cell_type": "code",
   "execution_count": 44,
   "id": "679def6d-90f8-4e45-9100-8295584dffd2",
   "metadata": {},
   "outputs": [
    {
     "name": "stdin",
     "output_type": "stream",
     "text": [
      "Enter the price: 150\n",
      "Enter the tip: 20\n"
     ]
    },
    {
     "name": "stdout",
     "output_type": "stream",
     "text": [
      "30.0\n"
     ]
    }
   ],
   "source": [
    "price = int(input(\"Enter the price:\"))\n",
    "percentage_tip = int(input(\"Enter the tip:\"))\n",
    "tip = price * percentage_tip/100\n",
    "round(tip, 2)\n",
    "print(tip)"
   ]
  },
  {
   "cell_type": "code",
   "execution_count": 1,
   "id": "3ada71b3-4af4-4586-b7f4-820b081b5609",
   "metadata": {},
   "outputs": [
    {
     "name": "stdin",
     "output_type": "stream",
     "text": [
      "Enter the hours:  3.5\n",
      "Enter the rate:  400\n"
     ]
    },
    {
     "name": "stdout",
     "output_type": "stream",
     "text": [
      "The groce_pay is:  1400\n"
     ]
    }
   ],
   "source": [
    "hours = float(input(\"Enter the hours: \"))\n",
    "rate = float(input(\"Enter the rate: \"))\n",
    "groce_pay = rate * hours\n",
    "print(f\"The groce_pay is: \", int(groce_pay))"
   ]
  },
  {
   "cell_type": "code",
   "execution_count": 3,
   "id": "e37fdc34-8500-4424-a216-0472234d34a2",
   "metadata": {},
   "outputs": [
    {
     "name": "stdin",
     "output_type": "stream",
     "text": [
      "Enter the hours:  45\n",
      "Enter the rate:  10\n"
     ]
    },
    {
     "name": "stdout",
     "output_type": "stream",
     "text": [
      "475\n"
     ]
    }
   ],
   "source": [
    "hours = float(input(\"Enter the hours: \"))\n",
    "rate = float(input(\"Enter the rate: \"))\n",
    "pay = hours * rate\n",
    "if(hours > 40):\n",
    " groce_pay = 40 * rate + (hours-40) * 1.5 * rate\n",
    "else:\n",
    "    pay\n",
    "print(int(groce_pay))"
   ]
  },
  {
   "cell_type": "code",
   "execution_count": 30,
   "id": "f10243bc-5e17-4a70-b4ea-b6ff9a9351ab",
   "metadata": {},
   "outputs": [
    {
     "name": "stdin",
     "output_type": "stream",
     "text": [
      "Enter the current market_price:  1000\n",
      "Enter your gender:  female\n",
      "Enter the car type:  sport car\n"
     ]
    },
    {
     "name": "stdout",
     "output_type": "stream",
     "text": [
      "210.0\n"
     ]
    }
   ],
   "source": [
    "market_price = float(input(\"Enter the current market_price: \"))\n",
    "gender = input(\"Enter your gender: \")\n",
    "if(gender == \"male\"):\n",
    "    age = int(input(\"Enter your age: \"))\n",
    "    if(age<=26):\n",
    "        yearly_price = 0.23 * market_price\n",
    "        print(yearly_price)\n",
    "    else:\n",
    "        yearly_price = 0.09 * market_price\n",
    "        print(yearly_price)\n",
    "elif(gender == \"female\"):\n",
    "    car_type = input(\"Enter the car type: \")\n",
    "    if(car_type == \"sport car\"):\n",
    "        yearly_price = 0.21 * market_price\n",
    "        print(yearly_price)\n",
    "    else:\n",
    "        yearly_price = 0.1 * market_price\n",
    "        print(yearly_price)\n",
    "else: \n",
    "    print(\"Wrong Format\")"
   ]
  },
  {
   "cell_type": "code",
   "execution_count": 42,
   "id": "af1b7770-7046-462f-b258-35e1fba3db8a",
   "metadata": {},
   "outputs": [
    {
     "name": "stdout",
     "output_type": "stream",
     "text": [
      "before:  23\n",
      "9 9\n",
      "3 3\n",
      "After:  3\n"
     ]
    }
   ],
   "source": [
    "smallest_so_far = 23\n",
    "print(\"before: \", smallest_so_far)\n",
    "for new_num in (9, 41, 12, 3, 74, 25):\n",
    "    if(new_num < smallest_so_far):\n",
    "        smallest_so_far = new_num\n",
    "        print(smallest_so_far, new_num)\n",
    "\n",
    "print(\"After: \", smallest_so_far)"
   ]
  },
  {
   "cell_type": "code",
   "execution_count": 53,
   "id": "12852b29-d55e-455d-a76c-d13c9247547f",
   "metadata": {},
   "outputs": [
    {
     "name": "stdout",
     "output_type": "stream",
     "text": [
      "before:  0\n",
      "thing 164\n"
     ]
    }
   ],
   "source": [
    "zork = 0\n",
    "print(\"before: \", zork)\n",
    "for thing in (9, 41,12, 3, 74, 25):\n",
    "     zork = zork + thing \n",
    "print(\"thing\", zork) \n"
   ]
  },
  {
   "cell_type": "code",
   "execution_count": 27,
   "id": "7a13f3e0-14e8-49e3-b338-7027ca5c66f1",
   "metadata": {},
   "outputs": [
    {
     "name": "stdout",
     "output_type": "stream",
     "text": [
      "475.0\n"
     ]
    }
   ],
   "source": [
    "#Rewrite your pay computation with time-and-a-half for overtime and create a function called compute pay which takes two parameters (hours and rate)\n",
    "def computepay(hours, rate):\n",
    "    if(hours > 40):\n",
    "        groce_pay = 40 * rate + (hours-40) * 1.5 * rate\n",
    "        print(groce_pay)\n",
    "    else:\n",
    "        groce_pay = hours * rate\n",
    "        print(groce_pay)\n",
    "computepay(45, 10)"
   ]
  },
  {
   "cell_type": "code",
   "execution_count": 42,
   "id": "fb4a9f8b-d1bb-4ad9-a9be-b765819704c2",
   "metadata": {},
   "outputs": [
    {
     "name": "stdout",
     "output_type": "stream",
     "text": [
      "fiction\n",
      "The jumbled word is: ['f', 'c', 'n', 'i', 'i', 'o', 't']\n"
     ]
    },
    {
     "name": "stdin",
     "output_type": "stream",
     "text": [
      "enter the guessed word: fiction\n"
     ]
    },
    {
     "name": "stdout",
     "output_type": "stream",
     "text": [
      "Correct guess\n"
     ]
    }
   ],
   "source": [
    "import random\n",
    "list = ['father', 'enterprise', 'science', 'programming', 'resistance', 'fiction', 'condition', 'reverse', 'computer', 'python']\n",
    "word = random.choice(list)\n",
    "print(word)\n",
    "jumbled = random.sample(word, len(word))\n",
    "print(\"The jumbled word is:\", jumbled)\n",
    "guess = input(\"enter the guessed word:\")\n",
    "if guess == word:\n",
    "    print(\"Correct guess\")\n",
    "else:\n",
    "    print(\"wrong guess\")\n"
   ]
  },
  {
   "cell_type": "code",
   "execution_count": 7,
   "id": "a5e7d2b6-0ebd-4ec2-9ca9-41fe0fa7cc75",
   "metadata": {},
   "outputs": [
    {
     "name": "stdout",
     "output_type": "stream",
     "text": [
      "[1, 2, 3]\n"
     ]
    }
   ],
   "source": [
    "def fibonacci_series(n):\n",
    "    if n == 1:\n",
    "        return [0]\n",
    "    if n == 2:\n",
    "        return [0, 1]\n",
    "\n",
    "    f1 = 0\n",
    "    f2 = 1\n",
    "    f_series = []\n",
    "    for i in range(2,5):\n",
    "        next_f = f1 + f2  \n",
    "        f_series.append(next_f)  \n",
    "        f1 = f2  \n",
    "        f2 = next_f  \n",
    "    print(f_series)\n",
    "fibonacci_series(6)"
   ]
  },
  {
   "cell_type": "code",
   "execution_count": null,
   "id": "97d2670d-f855-47b9-8e31-222c533da1ae",
   "metadata": {},
   "outputs": [],
   "source": []
  },
  {
   "cell_type": "code",
   "execution_count": 37,
   "id": "d63c4132-407d-432a-8827-ae01d853f0a8",
   "metadata": {},
   "outputs": [
    {
     "name": "stdout",
     "output_type": "stream",
     "text": [
      "Computer choice: paper\n"
     ]
    },
    {
     "name": "stdin",
     "output_type": "stream",
     "text": [
      "Enter your choice (rock, paper or scissor): scissor\n"
     ]
    },
    {
     "name": "stdout",
     "output_type": "stream",
     "text": [
      "The computer lost\n"
     ]
    }
   ],
   "source": [
    "import random\n",
    "\n",
    "choice = ['rock', 'paper', 'scissor']\n",
    "computer_choice = random.choice(choice)\n",
    "print(\"Computer choice:\", computer_choice)\n",
    "\n",
    "user_choice = input(\"Enter your choice (rock, paper or scissor):\")\n",
    "\n",
    "if user_choice not in choice:  \n",
    "    print(\"It's an invalid choice\")  \n",
    "else:  \n",
    "    if user_choice == computer_choice:  \n",
    "        print(\"It's a tie\")  \n",
    "    elif (user_choice == 'rock' and computer_choice == 'scissor') or \\\n",
    "         (user_choice == 'scissor' and computer_choice == 'paper') or \\\n",
    "         (user_choice == 'paper' and computer_choice == 'rock'):  \n",
    "        print(\"The computer lost\")  \n",
    "    else:  \n",
    "        print(\"The computer won\")"
   ]
  },
  {
   "cell_type": "code",
   "execution_count": null,
   "id": "f5dc8755-b873-47e6-96f6-188d114e2c4a",
   "metadata": {},
   "outputs": [],
   "source": []
  },
  {
   "cell_type": "code",
   "execution_count": 69,
   "id": "68596dae-2871-467c-a749-793f9f2d36fb",
   "metadata": {},
   "outputs": [
    {
     "name": "stdout",
     "output_type": "stream",
     "text": [
      "0, p\n",
      "1, i\n",
      "2, n\n",
      "3, e\n",
      "4, a\n",
      "5, p\n",
      "6, p\n",
      "7, l\n",
      "8, e\n"
     ]
    }
   ],
   "source": [
    "fruit = 'pineapple'\n",
    "for i in range(len(fruit)):\n",
    "    print(f\"{i}, {fruit[i]}\")"
   ]
  },
  {
   "cell_type": "code",
   "execution_count": 73,
   "id": "2a281345-ad52-4712-b4f6-816c1122cc77",
   "metadata": {},
   "outputs": [
    {
     "data": {
      "text/plain": [
       "['__add__',\n",
       " '__class__',\n",
       " '__contains__',\n",
       " '__delattr__',\n",
       " '__dir__',\n",
       " '__doc__',\n",
       " '__eq__',\n",
       " '__format__',\n",
       " '__ge__',\n",
       " '__getattribute__',\n",
       " '__getitem__',\n",
       " '__getnewargs__',\n",
       " '__getstate__',\n",
       " '__gt__',\n",
       " '__hash__',\n",
       " '__init__',\n",
       " '__init_subclass__',\n",
       " '__iter__',\n",
       " '__le__',\n",
       " '__len__',\n",
       " '__lt__',\n",
       " '__mod__',\n",
       " '__mul__',\n",
       " '__ne__',\n",
       " '__new__',\n",
       " '__reduce__',\n",
       " '__reduce_ex__',\n",
       " '__repr__',\n",
       " '__rmod__',\n",
       " '__rmul__',\n",
       " '__setattr__',\n",
       " '__sizeof__',\n",
       " '__str__',\n",
       " '__subclasshook__',\n",
       " 'capitalize',\n",
       " 'casefold',\n",
       " 'center',\n",
       " 'count',\n",
       " 'encode',\n",
       " 'endswith',\n",
       " 'expandtabs',\n",
       " 'find',\n",
       " 'format',\n",
       " 'format_map',\n",
       " 'index',\n",
       " 'isalnum',\n",
       " 'isalpha',\n",
       " 'isascii',\n",
       " 'isdecimal',\n",
       " 'isdigit',\n",
       " 'isidentifier',\n",
       " 'islower',\n",
       " 'isnumeric',\n",
       " 'isprintable',\n",
       " 'isspace',\n",
       " 'istitle',\n",
       " 'isupper',\n",
       " 'join',\n",
       " 'ljust',\n",
       " 'lower',\n",
       " 'lstrip',\n",
       " 'maketrans',\n",
       " 'partition',\n",
       " 'removeprefix',\n",
       " 'removesuffix',\n",
       " 'replace',\n",
       " 'rfind',\n",
       " 'rindex',\n",
       " 'rjust',\n",
       " 'rpartition',\n",
       " 'rsplit',\n",
       " 'rstrip',\n",
       " 'split',\n",
       " 'splitlines',\n",
       " 'startswith',\n",
       " 'strip',\n",
       " 'swapcase',\n",
       " 'title',\n",
       " 'translate',\n",
       " 'upper',\n",
       " 'zfill']"
      ]
     },
     "execution_count": 73,
     "metadata": {},
     "output_type": "execute_result"
    }
   ],
   "source": [
    "a ='star'\n",
    "dir(a)"
   ]
  },
  {
   "cell_type": "code",
   "execution_count": 75,
   "id": "74ec7762-60c5-447d-b52a-982196688a2e",
   "metadata": {},
   "outputs": [
    {
     "data": {
      "text/plain": [
       "'STAR'"
      ]
     },
     "execution_count": 75,
     "metadata": {},
     "output_type": "execute_result"
    }
   ],
   "source": [
    "a.upper()"
   ]
  },
  {
   "cell_type": "code",
   "execution_count": 89,
   "id": "81da1f16-a98b-4fb3-a67d-a07d93421927",
   "metadata": {},
   "outputs": [
    {
     "data": {
      "text/plain": [
       "'Stars are shining today'"
      ]
     },
     "execution_count": 89,
     "metadata": {},
     "output_type": "execute_result"
    }
   ],
   "source": [
    "a= 'stars are shining today'\n",
    "a.capitalize()"
   ]
  },
  {
   "cell_type": "code",
   "execution_count": 91,
   "id": "cd73049b-367c-4cfc-8724-e423dac18383",
   "metadata": {},
   "outputs": [
    {
     "data": {
      "text/plain": [
       "'Stars Are Shining Today'"
      ]
     },
     "execution_count": 91,
     "metadata": {},
     "output_type": "execute_result"
    }
   ],
   "source": [
    "a.title()"
   ]
  },
  {
   "cell_type": "code",
   "execution_count": 93,
   "id": "3326c414-5463-408e-9c2c-73783a5f6fa4",
   "metadata": {},
   "outputs": [
    {
     "data": {
      "text/plain": [
       "'stars are dull today'"
      ]
     },
     "execution_count": 93,
     "metadata": {},
     "output_type": "execute_result"
    }
   ],
   "source": [
    "a.replace('shining', 'dull')"
   ]
  },
  {
   "cell_type": "code",
   "execution_count": 111,
   "id": "eeab0718-4739-45d7-b4db-277789e35cf0",
   "metadata": {},
   "outputs": [
    {
     "data": {
      "text/plain": [
       "'stars shine'"
      ]
     },
     "execution_count": 111,
     "metadata": {},
     "output_type": "execute_result"
    }
   ],
   "source": [
    "a = '   stars shine   '\n",
    "a.lstrip()"
   ]
  },
  {
   "cell_type": "code",
   "execution_count": 129,
   "id": "8d94cc3f-a919-4de3-93f3-a01cef9f3bf9",
   "metadata": {},
   "outputs": [
    {
     "data": {
      "text/plain": [
       "'   stars shine'"
      ]
     },
     "execution_count": 129,
     "metadata": {},
     "output_type": "execute_result"
    }
   ],
   "source": [
    "a = '   stars shine   '\n",
    "a.rstrip()"
   ]
  },
  {
   "cell_type": "code",
   "execution_count": null,
   "id": "1e336c3b-4010-4eb1-be41-89cb139db3cb",
   "metadata": {},
   "outputs": [],
   "source": [
    "a = 'From stephen.marquard@uct.ac.za Sat Jan 5 09:14:16 2008'\n",
    "index = a.find('@')\n",
    "domain = a[index:]\n",
    "end = domain.find(' ')\n",
    "while end != -1:\n",
    "    domain = domain[:end]\n",
    "print(domain)"
   ]
  },
  {
   "cell_type": "code",
   "execution_count": null,
   "id": "e36695cc-d564-474f-bd0a-e55cca391e20",
   "metadata": {},
   "outputs": [],
   "source": []
  },
  {
   "cell_type": "code",
   "execution_count": 180,
   "id": "f476c85a-47ce-437d-8949-1ef76b481c0d",
   "metadata": {},
   "outputs": [
    {
     "name": "stdout",
     "output_type": "stream",
     "text": [
      "uct.ac.za\n"
     ]
    }
   ],
   "source": [
    "a = 'From stephen.marquard@uct.ac.za Sat Jan 5 09:14:16 2008'  \n",
    "index = a.find('@')  \n",
    "domain = a[index+1:]  # Get the substring starting from '@'  \n",
    "end_index = domain.find(' ')  \n",
    "if end_index != -1:  \n",
    "    domain = domain[:end_index]  \n",
    "print(domain)"
   ]
  },
  {
   "cell_type": "code",
   "execution_count": 11,
   "id": "3c8eb524-992c-4ab3-9ce0-aac673e05ccd",
   "metadata": {},
   "outputs": [
    {
     "data": {
      "text/plain": [
       "(str, tuple)"
      ]
     },
     "execution_count": 11,
     "metadata": {},
     "output_type": "execute_result"
    }
   ],
   "source": [
    "b = ('a',) #single tuple creation\n",
    "c = ('d')\n",
    "type(c), type(b)"
   ]
  },
  {
   "cell_type": "code",
   "execution_count": 15,
   "id": "be949a08-faa7-48b5-8d1a-e29e65348784",
   "metadata": {},
   "outputs": [
    {
     "name": "stdout",
     "output_type": "stream",
     "text": [
      "30 20\n"
     ]
    }
   ],
   "source": [
    "a = 20\n",
    "b = 30\n",
    "(a, b) =(b, a)\n",
    "print(a, b)"
   ]
  },
  {
   "cell_type": "code",
   "execution_count": null,
   "id": "62748131-5621-466a-83bf-39c6cc53bcc1",
   "metadata": {},
   "outputs": [],
   "source": [
    "list = input(\"Enter the list elements: \").split(',')\n",
    "tuple = tuple(list.strip() for elements in list)\n",
    "\n",
    "user_choice = input(\"Enter the choice of user\")\n",
    "if user_choice in tuple:\n",
    "    print(f\"{user_choice} is present in tuple:\")\n",
    "else:\n",
    "    print(f\"{user_choice} is present:\")"
   ]
  },
  {
   "cell_type": "code",
   "execution_count": null,
   "id": "e8bbc081-644e-4520-8d8a-d9d3c75a1d6c",
   "metadata": {},
   "outputs": [],
   "source": [
    "#Write a program to add an element to tuple based on the user given value in a specifix index, "
   ]
  },
  {
   "cell_type": "code",
   "execution_count": 1,
   "id": "39afb259-f8ee-43e9-a6fb-b4b3e0a4ac72",
   "metadata": {},
   "outputs": [
    {
     "name": "stdin",
     "output_type": "stream",
     "text": [
      "Enter your name:  \n"
     ]
    },
    {
     "name": "stdout",
     "output_type": "stream",
     "text": [
      "\n",
      "35000\n"
     ]
    }
   ],
   "source": [
    "#Create class\n",
    "class Employee:\n",
    "    pass \n",
    "#create instance of the class\n",
    "emp_1 = Employee()\n",
    "#Take input\n",
    "name = input(\"Enter your name: \")\n",
    "#Assign name to the first instance\n",
    "emp_1.name = name\n",
    "#Assign salary to the first instance\n",
    "emp_1.salary = 35000\n",
    "#Print\n",
    "print(emp_1.name)\n",
    "print(emp_1.salary)"
   ]
  },
  {
   "cell_type": "code",
   "execution_count": 3,
   "id": "0c96033a-f474-4f8f-a628-4ab368654b79",
   "metadata": {},
   "outputs": [
    {
     "data": {
      "text/plain": [
       "__main__.Employee"
      ]
     },
     "execution_count": 3,
     "metadata": {},
     "output_type": "execute_result"
    }
   ],
   "source": [
    "type(emp_1)"
   ]
  },
  {
   "cell_type": "code",
   "execution_count": 7,
   "id": "53f85ce9-6e94-4135-91b4-9188e5f9d20a",
   "metadata": {},
   "outputs": [
    {
     "name": "stdin",
     "output_type": "stream",
     "text": [
      "Enter your name:  yashika\n",
      "Enter department name:  m.tech\n",
      "Enter Salary:  2000\n"
     ]
    },
    {
     "name": "stdout",
     "output_type": "stream",
     "text": [
      "yashika\n",
      "m.tech\n",
      "2000\n"
     ]
    }
   ],
   "source": [
    "#Self\n",
    "class Manager:\n",
    "    def __init__(self, name, department, salary):\n",
    "        self.name = name\n",
    "        self.department = department\n",
    "        self.salary = salary\n",
    "\n",
    "name = input(\"Enter your name: \")\n",
    "department = input(\"Enter department name: \")\n",
    "salary = int(input(\"Enter Salary: \"))\n",
    "#Create object of the class\n",
    "manager_1 = Manager(name, department, salary)\n",
    "print(manager_1.name)\n",
    "print(manager_1.department)\n",
    "print(manager_1.salary)"
   ]
  },
  {
   "cell_type": "code",
   "execution_count": 9,
   "id": "6c27995e-fbb0-4dfa-be72-5340e992a33c",
   "metadata": {},
   "outputs": [
    {
     "name": "stdin",
     "output_type": "stream",
     "text": [
      "Enter car name:  jazz\n"
     ]
    },
    {
     "name": "stdout",
     "output_type": "stream",
     "text": [
      "Name of the car is:  jazz\n"
     ]
    }
   ],
   "source": [
    "class Car:\n",
    "    def setName(self, name):\n",
    "        self.name = name\n",
    "    def getName(self):\n",
    "        return self.name\n",
    "\n",
    "Honda = Car()\n",
    "carname = input(\"Enter car name: \")\n",
    "Honda.setName(carname)\n",
    "print(\"Name of the car is: \", Honda.getName())"
   ]
  },
  {
   "cell_type": "code",
   "execution_count": 21,
   "id": "d7c113a2-fb5e-4b08-973e-e7f8d9507150",
   "metadata": {},
   "outputs": [
    {
     "name": "stdin",
     "output_type": "stream",
     "text": [
      "Enter the name:  yash\n",
      "Enter your age:  20\n"
     ]
    },
    {
     "name": "stdout",
     "output_type": "stream",
     "text": [
      "yash\n",
      "20\n"
     ]
    },
    {
     "name": "stdin",
     "output_type": "stream",
     "text": [
      "Enter the name:  riya\n",
      "Enter your age:  19\n"
     ]
    },
    {
     "name": "stdout",
     "output_type": "stream",
     "text": [
      "riya\n",
      "19\n"
     ]
    }
   ],
   "source": [
    "class Student:\n",
    "    def __init__(self, name, age):\n",
    "        self.name = name\n",
    "        self.age = age\n",
    "        \n",
    "name = input(\"Enter name of student1: \")\n",
    "age = int(input(\"Enter age of student1: \"))\n",
    "Student1 = Student(name, age)\n",
    "print(Student1.name)\n",
    "print(Student1.age)\n",
    "name = input(\"Enter name of student2: \")\n",
    "age = int(input(\"Enter age of student2: \"))\n",
    "Student2 = Student(name, age)\n",
    "print(Student2.name)\n",
    "print(Student2.age)"
   ]
  },
  {
   "cell_type": "code",
   "execution_count": 23,
   "id": "ef2cbdcb-5317-43b6-b342-db22a8f0a3e8",
   "metadata": {},
   "outputs": [
    {
     "name": "stdout",
     "output_type": "stream",
     "text": [
      "Current items in cart:\n",
      "Orange - 100\n",
      "Lemon - 10\n",
      "Apple - 50\n",
      "Watermelon - 30\n",
      "Orange removed from the cart.\n",
      "Current items in cart:\n",
      "Lemon - 10\n",
      "Apple - 50\n",
      "Watermelon - 30\n",
      "Total price: 90\n"
     ]
    }
   ],
   "source": [
    "class ShoppingCart:\n",
    "    def __init__(self):\n",
    "        self.items = []  \n",
    "     \n",
    "    def add_item(self, item, price):\n",
    "        self.items.append((item, price))\n",
    "        \n",
    "    def remove_item(self, item):\n",
    "        for cart_item in self.items:\n",
    "            if cart_item[0] == item:\n",
    "                self.items.remove(cart_item)\n",
    "                print(f\"{item} removed from the cart.\")\n",
    "                return\n",
    "        print(f\"Item '{item}' not found in the cart.\")\n",
    "\n",
    "    def total_price(self):\n",
    "        total = 0\n",
    "        if cart_item in self.items:\n",
    "            for item, price in self.items:\n",
    "                total += price\n",
    "            return total\n",
    "        else:\n",
    "            print(\"The cart is empty.\")\n",
    "\n",
    "    def display_items(self):\n",
    "        if self.items:\n",
    "            print(\"Current items in cart:\")\n",
    "            for item, price in self.items:\n",
    "                print(f\"{item} - {price}\")\n",
    "        else:\n",
    "            print(\"Cart is empty.\")\n",
    "    \n",
    "cart = ShoppingCart()\n",
    "cart.add_item(\"Orange\", 100)\n",
    "cart.add_item(\"Lemon\", 10)\n",
    "cart.add_item(\"Apple\", 50)\n",
    "cart.add_item(\"Watermelon\", 30)\n",
    "\n",
    "cart.display_items()\n",
    "cart.remove_item(\"Orange\")\n",
    "cart.display_items()\n",
    "\n",
    "print(f\"Total price: {cart.total_price()}\")\n"
   ]
  },
  {
   "cell_type": "code",
   "execution_count": 19,
   "id": "22d4dc7a-409f-40ea-87c0-80bd6d024365",
   "metadata": {},
   "outputs": [
    {
     "name": "stdin",
     "output_type": "stream",
     "text": [
      "Enter the number(a):  10\n",
      "Enter the number(b):  0\n"
     ]
    },
    {
     "name": "stdout",
     "output_type": "stream",
     "text": [
      "kindly enter non zero value of b\n"
     ]
    }
   ],
   "source": [
    "#Exception handling\n",
    "try:\n",
    "    a = int(input(\"Enter the number(a): \"))\n",
    "    b = int(input(\"Enter the number(b): \"))\n",
    "    div = a/b\n",
    "    print(div)\n",
    "except:\n",
    "    print(\"kindly enter non zero value of b\")"
   ]
  },
  {
   "cell_type": "code",
   "execution_count": 21,
   "id": "c080178a-7f17-43cd-b7d8-c68ff96a10a0",
   "metadata": {},
   "outputs": [
    {
     "name": "stdin",
     "output_type": "stream",
     "text": [
      "Enter the number(a):  10\n",
      "Enter the number(b):  0\n"
     ]
    },
    {
     "ename": "ZeroDivisionError",
     "evalue": "division by zero",
     "output_type": "error",
     "traceback": [
      "\u001b[1;31m---------------------------------------------------------------------------\u001b[0m",
      "\u001b[1;31mZeroDivisionError\u001b[0m                         Traceback (most recent call last)",
      "Cell \u001b[1;32mIn[21], line 3\u001b[0m\n\u001b[0;32m      1\u001b[0m a \u001b[38;5;241m=\u001b[39m \u001b[38;5;28mint\u001b[39m(\u001b[38;5;28minput\u001b[39m(\u001b[38;5;124m\"\u001b[39m\u001b[38;5;124mEnter the number(a): \u001b[39m\u001b[38;5;124m\"\u001b[39m))\n\u001b[0;32m      2\u001b[0m b \u001b[38;5;241m=\u001b[39m \u001b[38;5;28mint\u001b[39m(\u001b[38;5;28minput\u001b[39m(\u001b[38;5;124m\"\u001b[39m\u001b[38;5;124mEnter the number(b): \u001b[39m\u001b[38;5;124m\"\u001b[39m))\n\u001b[1;32m----> 3\u001b[0m div \u001b[38;5;241m=\u001b[39m \u001b[43ma\u001b[49m\u001b[38;5;241;43m/\u001b[39;49m\u001b[43mb\u001b[49m\n\u001b[0;32m      4\u001b[0m \u001b[38;5;28mprint\u001b[39m(div)\n",
      "\u001b[1;31mZeroDivisionError\u001b[0m: division by zero"
     ]
    }
   ],
   "source": [
    "a = int(input(\"Enter the number(a): \"))\n",
    "b = int(input(\"Enter the number(b): \"))\n",
    "div = a/b\n",
    "print(div)"
   ]
  },
  {
   "cell_type": "code",
   "execution_count": 1,
   "id": "77b1d259-168e-49b7-bdd6-db59ca4ffb47",
   "metadata": {},
   "outputs": [
    {
     "name": "stdin",
     "output_type": "stream",
     "text": [
      "Enter the number(a):  FOUR\n"
     ]
    },
    {
     "name": "stdout",
     "output_type": "stream",
     "text": [
      "Invalid input kindly enter integer value\n"
     ]
    }
   ],
   "source": [
    "#Exception handling\n",
    "try:\n",
    "    a = int(input(\"Enter the number(a): \"))\n",
    "    b = int(input(\"Enter the number(b): \"))\n",
    "    div = a/b\n",
    "    print(div)\n",
    "except ZeroDivisionError:\n",
    "    print(\"kindly enter non zero value of b\")\n",
    "except ValueError:\n",
    "    print(\"Invalid input kindly enter integer value\")"
   ]
  },
  {
   "cell_type": "code",
   "execution_count": null,
   "id": "617ca1c9-5484-48a7-af88-24a198e767c1",
   "metadata": {},
   "outputs": [],
   "source": []
  },
  {
   "cell_type": "code",
   "execution_count": 9,
   "id": "fcebd6d2-8047-46df-bcb4-f00cddc02e33",
   "metadata": {},
   "outputs": [
    {
     "name": "stdin",
     "output_type": "stream",
     "text": [
      "Enter a whole number:  09\n"
     ]
    },
    {
     "name": "stdout",
     "output_type": "stream",
     "text": [
      "you enter the whole number\n"
     ]
    },
    {
     "name": "stdin",
     "output_type": "stream",
     "text": [
      "Enter a whole number:  -3\n"
     ]
    },
    {
     "name": "stdout",
     "output_type": "stream",
     "text": [
      "you enter the whole number\n"
     ]
    },
    {
     "name": "stdin",
     "output_type": "stream",
     "text": [
      "Enter a whole number:  4.5\\\n"
     ]
    },
    {
     "name": "stdout",
     "output_type": "stream",
     "text": [
      "you must enter a whole number!\n"
     ]
    },
    {
     "name": "stdin",
     "output_type": "stream",
     "text": [
      "Enter your choice (y/n)?  n\n"
     ]
    },
    {
     "name": "stdout",
     "output_type": "stream",
     "text": [
      "ok, see you next time!\n"
     ]
    }
   ],
   "source": [
    "#Write program that repeatedly asks for a whole number input, handling exceptions and allowing users to retry or exit based on their choices.\n",
    "#Firstly, used a while loop to keep prompting the user until they enter a valid whole number. Inside the loop, used a try block to attempt to convert\n",
    "#the user's input to an integer. If the conversion raises a ValueError, print \"you must enter a whole number!\" and proceed to ask if the user wants to \n",
    "#try again (y/n)?. If the user enters \"y\" (yes), the program should continue the loop. If the user enters \"n\" (no), or if they enter anything other than\n",
    "#\"y\", the program should print \"ok, see you next time!\" and exit the loop. If the user interrupts the program with a keyboard interrupt (CTRL+C), catch \n",
    "#the KeyboardInterrupt exception, print \"You pressed Ctrl+C! See you next time!\" and exit the loop.\n",
    "\n",
    "def whole_number():\n",
    "    while True:\n",
    "        try:\n",
    "            user_input = input(\"Enter a whole number: \")\n",
    "            number = int(user_input)\n",
    "            print(\"you enter the whole number\")\n",
    "        except ValueError:\n",
    "            print(\"you must enter a whole number!\")\n",
    "            try:\n",
    "                b = input(\"Enter your choice (y/n)? \")\n",
    "                if b == \"y\":\n",
    "                    print(\"Let's try again:\")\n",
    "                    continue\n",
    "                else:\n",
    "                    print(\"ok, see you next time!\")\n",
    "                    return\n",
    "            except KeyboardInterrupt:\n",
    "                print(\"You pressed Ctrl+C! See you next time!\")\n",
    "\n",
    "whole_number()"
   ]
  },
  {
   "cell_type": "code",
   "execution_count": null,
   "id": "e492e52b-14a6-4e49-8da3-12bed8cd6f71",
   "metadata": {},
   "outputs": [],
   "source": []
  },
  {
   "cell_type": "code",
   "execution_count": 19,
   "id": "e3a89881-07df-4d6e-9dc3-090140510a2f",
   "metadata": {},
   "outputs": [
    {
     "name": "stdin",
     "output_type": "stream",
     "text": [
      "Enter a whole number:  10\n"
     ]
    },
    {
     "name": "stdout",
     "output_type": "stream",
     "text": [
      "you enter the whole number\n"
     ]
    },
    {
     "name": "stdin",
     "output_type": "stream",
     "text": [
      "Enter a whole number:  5\n"
     ]
    },
    {
     "name": "stdout",
     "output_type": "stream",
     "text": [
      "you enter the whole number\n"
     ]
    },
    {
     "name": "stdin",
     "output_type": "stream",
     "text": [
      "Enter a whole number:  0.4\n"
     ]
    },
    {
     "name": "stdout",
     "output_type": "stream",
     "text": [
      "you must enter a whole number!\n"
     ]
    },
    {
     "name": "stdin",
     "output_type": "stream",
     "text": [
      "Enter your choice (y/n)?  n\n"
     ]
    },
    {
     "name": "stdout",
     "output_type": "stream",
     "text": [
      "ok, see you next time!\n"
     ]
    }
   ],
   "source": [
    "while True:\n",
    "    try:\n",
    "        user_input = input(\"Enter a whole number: \")\n",
    "        number = int(user_input)\n",
    "        print(\"you enter the whole number\")\n",
    "    except ValueError:\n",
    "        print(\"you must enter a whole number!\")\n",
    "        try:\n",
    "            b = input(\"Enter your choice (y/n)? \")\n",
    "            if b == \"y\":\n",
    "                print(\"Let's try again:\")\n",
    "                continue\n",
    "            else:\n",
    "                print(\"ok, see you next time!\")\n",
    "                break\n",
    "                    \n",
    "        except KeyboardInterrupt:\n",
    "            print(\"You pressed Ctrl+C! See you next time!\")"
   ]
  },
  {
   "cell_type": "code",
   "execution_count": 21,
   "id": "588f76d6-0d16-4c2d-afe3-9bdd2a0fdc6d",
   "metadata": {},
   "outputs": [
    {
     "name": "stdin",
     "output_type": "stream",
     "text": [
      "Enter your age -6\n"
     ]
    },
    {
     "name": "stdout",
     "output_type": "stream",
     "text": [
      "Age cannot be less than zero\n",
      "Excecuted in any condition\n"
     ]
    }
   ],
   "source": [
    "try:\n",
    "    age = int(input(\"Enter your age\"))\n",
    "    if age < 0:\n",
    "        raise ValueError(\"Age cannot be negative\")\n",
    "    print(f\"Age when doubled {age * 2}\")\n",
    "except ValueError:\n",
    "    print(\"Age cannot be less than zero\")\n",
    "finally:\n",
    "    print(\"Excecuted in any condition\")"
   ]
  },
  {
   "cell_type": "code",
   "execution_count": 3,
   "id": "eb77bd7e-40bc-42ae-ae66-85f710480fe5",
   "metadata": {},
   "outputs": [
    {
     "name": "stdin",
     "output_type": "stream",
     "text": [
      "Enter value of a:  4\n",
      "Enter value of b:  2\n"
     ]
    },
    {
     "name": "stdout",
     "output_type": "stream",
     "text": [
      "Division operation successful: 2.0\n"
     ]
    },
    {
     "data": {
      "text/plain": [
       "<__main__.UsingUserException at 0x22623aed370>"
      ]
     },
     "execution_count": 3,
     "metadata": {},
     "output_type": "execute_result"
    }
   ],
   "source": [
    "class OurException(Exception):  \n",
    "    def __init__(self, message):  \n",
    "        super().__init__(message)  \n",
    "        self.message = message  \n",
    "\n",
    "class UsingUserException:  \n",
    "    def __init__(self):  \n",
    "        try:  \n",
    "            a = int(input(\"Enter value of a: \"))  \n",
    "            b = int(input(\"Enter value of b: \"))  \n",
    "            if b == 0:  \n",
    "                raise OurException(\"b should be greater than zero\")  \n",
    "            d = a / b  \n",
    "            print(f\"Division operation successful: {d}\")  \n",
    "        except OurException as err:  \n",
    "            print(\"Raised a user-defined exception:\", err.message)  \n",
    "\n",
    "# Create an instance to execute the logic  \n",
    "UsingUserException() "
   ]
  },
  {
   "cell_type": "code",
   "execution_count": 5,
   "id": "e5643fc4-8913-4070-982d-5158a2332781",
   "metadata": {},
   "outputs": [
    {
     "name": "stdout",
     "output_type": "stream",
     "text": [
      "[10 20 30 40 50]\n",
      "<class 'numpy.ndarray'>\n"
     ]
    }
   ],
   "source": [
    "import numpy as np\n",
    "arr = np.array([10,20,30,40,50])\n",
    "print(arr)\n",
    "print(type(arr))"
   ]
  },
  {
   "cell_type": "code",
   "execution_count": 9,
   "id": "aaf59948-304c-4761-a665-ef1ac046209d",
   "metadata": {},
   "outputs": [
    {
     "name": "stdout",
     "output_type": "stream",
     "text": [
      "0D array is  50\n",
      "!D array is  [1 2 3 4]\n",
      "2D array is  [[1 1 1]\n",
      " [2 3 4]]\n",
      "3D array is  [[[1 1 1]\n",
      "  [2 2 2]]\n",
      "\n",
      " [[3 3 3]\n",
      "  [4 4 4]]]\n"
     ]
    }
   ],
   "source": [
    "#Creating 0d array\n",
    "arr0 = np.array(50)\n",
    "print(\"0D array is \", arr0)\n",
    "# 1d array\n",
    "arr1 = np.array([1,2,3,4]) #In 1d array we use 0d array elements as list\n",
    "print(\"!D array is \", arr1)\n",
    "# 2d array\n",
    "arr2 = np.array([[1,1,1],[2,3,4]]) #In 2d array we pass 1d array as elements\n",
    "print(\"2D array is \", arr2)\n",
    "#3d array\n",
    "arr3 = np.array([[[1,1,1],[2,2,2]],[[3,3,3],[4,4,4]]]) #In 3d array we pass 2d array as elements\n",
    "print(\"3D array is \", arr3)"
   ]
  },
  {
   "cell_type": "code",
   "execution_count": 27,
   "id": "a66ddce0-2fd9-40f4-926b-f9181832bcce",
   "metadata": {},
   "outputs": [
    {
     "name": "stdout",
     "output_type": "stream",
     "text": [
      "A 0D array is: 1\n",
      "A 1D array with elements: [1 2 3 4]\n",
      "A 2D array with elements: [[1 1 1]\n",
      " [1 2 1]]\n",
      "A 3D array with elements: [[[1 1 1]\n",
      "  [2 2 2]]\n",
      "\n",
      " [[3 3 3]\n",
      "  [4 4 4]]]\n"
     ]
    }
   ],
   "source": [
    "arr0 = np.array(1)\n",
    "print(\"A 0D array is:\", a0)\n",
    "arr1 = np.array([1,2,3,4]) \n",
    "print(\"A 1D array with elements:\", arr1)\n",
    "arr2 = np.array([[1,1,1],[1,2,1]]) \n",
    "print(\"A 2D array with elements:\", arr2)\n",
    "arr3 = np.array([[[1,1,1],[2,2,2]],[[3,3,3],[4,4,4]]]) \n",
    "print(\"A 3D array with elements:\", arr3)"
   ]
  },
  {
   "cell_type": "code",
   "execution_count": 15,
   "id": "1d1a40f1-34c3-48b2-94f9-59d041f33cbf",
   "metadata": {},
   "outputs": [],
   "source": [
    "#Attributes of ndarray: 1. ndarray.ndim, 2. ndarray.shape, 3. ndarray.size, 4. ndarray.dtype, 5. ndarray.itemsize, 6. ndarray.data"
   ]
  },
  {
   "cell_type": "code",
   "execution_count": 39,
   "id": "9b85d669-fb90-453b-923c-d3381f9d7a3b",
   "metadata": {},
   "outputs": [
    {
     "name": "stdout",
     "output_type": "stream",
     "text": [
      "Od array: 0\n",
      "1d array: (4,)\n",
      "2d array: 6\n",
      "3d array: int32\n",
      "3d array: (2, 2, 3)\n"
     ]
    }
   ],
   "source": [
    "import numpy as np  \n",
    "print(\"Od array:\", arr0.ndim)\n",
    "print(\"1d array:\", arr1.shape)\n",
    "print(\"2d array:\", arr2.size)\n",
    "print(\"3d array:\", arr3.dtype)\n",
    "print(\"3d array:\", arr3.shape)"
   ]
  },
  {
   "cell_type": "code",
   "execution_count": 41,
   "id": "26a627d7-79ef-4b3c-8f11-c339f52aae4b",
   "metadata": {},
   "outputs": [
    {
     "name": "stdout",
     "output_type": "stream",
     "text": [
      "[[ 1  2  3]\n",
      " [ 4  5  6]\n",
      " [ 7  8  9]\n",
      " [10 11 12]]\n"
     ]
    }
   ],
   "source": [
    "#ndarray.reshape: It is used to reshape the current elements of an array\n",
    "import numpy as np\n",
    "arr = np.array([1,2,3,4,5,6,7,8,9,10,11,12])\n",
    "new_arr = arr.reshape(4,3)\n",
    "print(new_arr)"
   ]
  },
  {
   "cell_type": "code",
   "execution_count": 43,
   "id": "0971d724-8f39-47d3-a059-8d1c6589888f",
   "metadata": {},
   "outputs": [
    {
     "data": {
      "text/plain": [
       "array([ 1,  2,  3,  4,  5,  6,  7,  8,  9, 10, 11, 12])"
      ]
     },
     "execution_count": 43,
     "metadata": {},
     "output_type": "execute_result"
    }
   ],
   "source": [
    "#ndarray.flatten: It returns the copy of the array flattened into a 1D array\n",
    "new1D = new_arr.flatten()\n",
    "new1D"
   ]
  },
  {
   "cell_type": "code",
   "execution_count": 45,
   "id": "e1047764-29e3-4728-8503-a85c3faced56",
   "metadata": {},
   "outputs": [
    {
     "data": {
      "text/plain": [
       "array([[ 1,  4,  7, 10],\n",
       "       [ 2,  5,  8, 11],\n",
       "       [ 3,  6,  9, 12]])"
      ]
     },
     "execution_count": 45,
     "metadata": {},
     "output_type": "execute_result"
    }
   ],
   "source": [
    "#ndarray.transpose: swap the row and columns in the array\n",
    "new = new_arr.transpose()\n",
    "new"
   ]
  },
  {
   "cell_type": "code",
   "execution_count": 59,
   "id": "bbb2a88d-d12e-4863-a013-bfe076583720",
   "metadata": {},
   "outputs": [
    {
     "name": "stdout",
     "output_type": "stream",
     "text": [
      "Number of Dimensions: 1\n",
      "Shape: (7,)\n",
      "Size: 7\n",
      "Data Type: float64\n",
      "Item Size: 8\n"
     ]
    }
   ],
   "source": [
    "#temperatures = [75.2, 77.1, 74.5, 79.3, 82.6, 81.2, 77.8] Steps to perform:\n",
    "#1. Explore the key attributes of Numpy arrays, including ndim, shape, size, dtype, itemsize, and data\n",
    "import numpy as np\n",
    "temp = np.array([75.2, 77.1, 74.5, 79.3, 82.6, 81.2, 77.8])\n",
    "print(\"Number of Dimensions:\", temp.ndim)\n",
    "print(\"Shape:\", temp.shape)\n",
    "print(\"Size:\", temp.size)\n",
    "print(\"Data Type:\", temp.dtype)\n",
    "print(\"Item Size:\", temp.itemsize)"
   ]
  },
  {
   "cell_type": "code",
   "execution_count": 3,
   "id": "b7f01f89-cb01-4edc-9633-ee5a93b5b7cf",
   "metadata": {},
   "outputs": [
    {
     "name": "stdout",
     "output_type": "stream",
     "text": [
      "[40 40 40]\n"
     ]
    }
   ],
   "source": [
    "#Arithmetic operations using NumPy\n",
    "#1. Addition\n",
    "import numpy as np\n",
    "a = np.array([30,20,10])\n",
    "b = np.array([10,20,30])\n",
    "result = np.add(a,b)\n",
    "print(result)"
   ]
  },
  {
   "cell_type": "code",
   "execution_count": 5,
   "id": "5107a273-06d6-4fac-80a8-95ef34d37ba1",
   "metadata": {},
   "outputs": [
    {
     "name": "stdout",
     "output_type": "stream",
     "text": [
      "[[ 20   0 -20]\n",
      " [ 10  40  40]]\n"
     ]
    }
   ],
   "source": [
    "#2. Substraction\n",
    "a = np.array([[30,20,10],[50,70,90]])\n",
    "b = np.array([[10,20,30],[40,30,50]])\n",
    "result = np.subtract(a,b)\n",
    "print(result)"
   ]
  },
  {
   "cell_type": "code",
   "execution_count": 7,
   "id": "5b9b4086-5cda-43d6-bd50-9fd9b87ca702",
   "metadata": {},
   "outputs": [
    {
     "name": "stdout",
     "output_type": "stream",
     "text": [
      "[300 400 300]\n"
     ]
    }
   ],
   "source": [
    "#3. Multiplication\n",
    "a = np.array([30,20,10])\n",
    "b = np.array([10,20,30])\n",
    "result = np.multiply(a,b)\n",
    "print(result)"
   ]
  },
  {
   "cell_type": "code",
   "execution_count": 9,
   "id": "d171d3ea-de80-4f74-94b5-837ce2f2ef53",
   "metadata": {},
   "outputs": [
    {
     "name": "stdout",
     "output_type": "stream",
     "text": [
      "[[3.         1.         0.33333333]\n",
      " [5.         3.5        3.        ]]\n"
     ]
    }
   ],
   "source": [
    "#4. Division\n",
    "a = np.array([[30,20,10],[50,70,90]])\n",
    "b = np.array([10,20,30])\n",
    "result = np.divide(a,b)\n",
    "print(result)"
   ]
  },
  {
   "cell_type": "code",
   "execution_count": 11,
   "id": "fe76fbf4-39e3-4df2-b52c-0fbff0c40868",
   "metadata": {},
   "outputs": [
    {
     "name": "stdout",
     "output_type": "stream",
     "text": [
      "[ 716276736          0 1073741824]\n"
     ]
    }
   ],
   "source": [
    "#5. Power of\n",
    "a = np.array([30,20,10])\n",
    "b = np.array([10,20,30])\n",
    "result = np.power(a,b)\n",
    "print(result)"
   ]
  },
  {
   "cell_type": "code",
   "execution_count": 36,
   "id": "6578d11e-4af8-44c8-b897-af27ddd77ee9",
   "metadata": {},
   "outputs": [
    {
     "name": "stdout",
     "output_type": "stream",
     "text": [
      "4.0\n",
      "6.333333333333333\n",
      "6.944222218666553\n",
      "48.22222222222222\n"
     ]
    }
   ],
   "source": [
    "#Statistical operations\n",
    "#Calculating Median, Mean, Standard Deviation, and Variance in the array\n",
    "array = np.array([[4,3,2],[10,1,0],[5,8,24]])\n",
    "print(np.median(array))\n",
    "print(np.mean(array))\n",
    "print(np.std(array))\n",
    "print(np.var(array))"
   ]
  },
  {
   "cell_type": "code",
   "execution_count": 16,
   "id": "50f686d8-54cd-46e1-9f17-c03145f92577",
   "metadata": {},
   "outputs": [
    {
     "name": "stdout",
     "output_type": "stream",
     "text": [
      "9.6\n"
     ]
    }
   ],
   "source": [
    "#Calculating Percentiles\n",
    "#The np.percentile() function is used to compute the nth percentile of the arrat elements. It should be between 0 and 100.\n",
    "print(np.percentile(array, 85))"
   ]
  },
  {
   "cell_type": "code",
   "execution_count": 20,
   "id": "c92905a4-88fa-4940-b473-3e10f0a6af03",
   "metadata": {},
   "outputs": [
    {
     "name": "stdout",
     "output_type": "stream",
     "text": [
      "['HelloWelcome' 'WorldLearners']\n"
     ]
    }
   ],
   "source": [
    "#String function in Numpy\n",
    "s1 = np.array([\"Hello\",\"World\"])\n",
    "s2 = np.array([\"Welcome\",\"Learners\"])\n",
    "result = np.char.add(s1,s2)\n",
    "print(result)"
   ]
  },
  {
   "cell_type": "code",
   "execution_count": 22,
   "id": "ed2bceae-5fff-4ed4-a59f-5d4cd169732a",
   "metadata": {},
   "outputs": [
    {
     "name": "stdout",
     "output_type": "stream",
     "text": [
      "Hello how are you\n",
      "Hi how are you\n"
     ]
    }
   ],
   "source": [
    "s3 = \"Hello how are you\"\n",
    "print(s3)\n",
    "z = np.char.replace(s3, \"Hello\", \"Hi\")\n",
    "print(z)"
   ]
  },
  {
   "cell_type": "code",
   "execution_count": 24,
   "id": "b054a826-6327-4b59-99ba-9ee094a021a6",
   "metadata": {},
   "outputs": [
    {
     "name": "stdout",
     "output_type": "stream",
     "text": [
      "HI HOW ARE YOU\n",
      "hi how are you\n"
     ]
    }
   ],
   "source": [
    "z1 = np.char.upper(z)\n",
    "z2 = np.char.lower(z)\n",
    "print(z1)\n",
    "print(z2)"
   ]
  },
  {
   "cell_type": "code",
   "execution_count": 34,
   "id": "4b071614-dc1c-42e2-816c-215cc1479eeb",
   "metadata": {},
   "outputs": [
    {
     "name": "stdout",
     "output_type": "stream",
     "text": [
      "[20 35 50 65 80]\n",
      "[10 15 20 25 30]\n",
      "[  75  250  525  900 1375]\n",
      "[3.         2.5        2.33333333 2.25       2.2       ]\n",
      "[     759375  1977800241 -2091638453 -1924594607   447042167]\n"
     ]
    }
   ],
   "source": [
    "arrA = [15, 25, 35, 45, 55]\n",
    "arrB = [5, 10, 15, 20, 25]\n",
    "print(np.add(arrA, arrB))\n",
    "print(np.subtract(arrA, arrB))\n",
    "print(np.multiply(arrA, arrB))\n",
    "print(np.divide(arrA, arrB))\n",
    "print(np.power(arrA, arrB))"
   ]
  },
  {
   "cell_type": "code",
   "execution_count": 42,
   "id": "6a4858b5-5131-444a-865c-f857edaf9249",
   "metadata": {},
   "outputs": [
    {
     "name": "stdout",
     "output_type": "stream",
     "text": [
      "57.0\n",
      "57.0\n",
      "28.722813232690143\n",
      "825.0\n"
     ]
    }
   ],
   "source": [
    "arrC = [12, 22, 32, 42, 52, 62, 72, 82, 92, 102]\n",
    "print(np.mean(arrC))\n",
    "print(np.median(arrC))\n",
    "print(np.std(arrC))\n",
    "print(np.var(arrC))"
   ]
  },
  {
   "cell_type": "code",
   "execution_count": 48,
   "id": "05f06740-2ca0-4f89-a425-1a918b1055b3",
   "metadata": {},
   "outputs": [
    {
     "name": "stdout",
     "output_type": "stream",
     "text": [
      "['HelloWorld' 'DataAnalysis' 'Scienceis' 'ClassFun' 'Learners2023']\n",
      "['HELLO' 'DATA' 'SCIENCE' 'CLASS' 'LEARNERS']\n",
      "['World' 'Analysis' 'is' 'Boring' '2023']\n"
     ]
    }
   ],
   "source": [
    "arrX = ['Hello', 'Data', 'Science', 'Class', 'Learners']\n",
    "arrY = ['World', 'Analysis', 'is', 'Fun', '2023']\n",
    "print(np.char.add(arrX, arrY))\n",
    "arrX = np.char.upper(arrX)\n",
    "print(arrX)\n",
    "arr = np.char.replace(arrY, \"Fun\", \"Boring\")\n",
    "print(arr)"
   ]
  },
  {
   "cell_type": "code",
   "execution_count": 54,
   "id": "578489e6-fa92-4ea4-bd0d-483d944c9dcb",
   "metadata": {},
   "outputs": [
    {
     "name": "stdout",
     "output_type": "stream",
     "text": [
      "4\n"
     ]
    }
   ],
   "source": [
    "#Access Elements in the 1D array\n",
    "import numpy as np\n",
    "array1d = np.array([1,2,3,4,5,6])\n",
    "array2d = np.array([[1,2,3],[4,5,6]])\n",
    "array3d = np.array([[[1,2,3],[4,5,6]],[[7,8,9],[10,11,12]]])\n",
    "print(array1d[3])"
   ]
  },
  {
   "cell_type": "code",
   "execution_count": 58,
   "id": "320c7244-e2ed-4a33-97fa-d49d4c6d1e6c",
   "metadata": {},
   "outputs": [
    {
     "name": "stdout",
     "output_type": "stream",
     "text": [
      "5\n"
     ]
    }
   ],
   "source": [
    "#Access elements in the 2d array\n",
    "print(array2d[1,1])"
   ]
  },
  {
   "cell_type": "code",
   "execution_count": 62,
   "id": "94740859-8d04-45f7-be9f-46d3a2d57fba",
   "metadata": {},
   "outputs": [
    {
     "name": "stdout",
     "output_type": "stream",
     "text": [
      "10\n"
     ]
    }
   ],
   "source": [
    "#Access elemetns in the 3d array\n",
    "print(array3d[1,1,0])"
   ]
  },
  {
   "cell_type": "code",
   "execution_count": 64,
   "id": "99adef3d-1e97-4e80-80c2-13df6ce9843d",
   "metadata": {},
   "outputs": [
    {
     "name": "stdout",
     "output_type": "stream",
     "text": [
      "4\n"
     ]
    }
   ],
   "source": [
    "#Negative Indexing\n",
    "print(array1d[-3])"
   ]
  },
  {
   "cell_type": "code",
   "execution_count": 68,
   "id": "628e9d5e-75e7-4612-864f-f3caf9ec4818",
   "metadata": {},
   "outputs": [
    {
     "name": "stdout",
     "output_type": "stream",
     "text": [
      "[[1 2 3]\n",
      " [4 5 6]]\n",
      "6\n"
     ]
    }
   ],
   "source": [
    "#print the last element of the 2d array using negative indexing\n",
    "print(array2d)\n",
    "print(array2d[-1,-1])"
   ]
  },
  {
   "cell_type": "code",
   "execution_count": 70,
   "id": "07fd0549-4556-45c7-846e-50e313ceb3b4",
   "metadata": {},
   "outputs": [
    {
     "name": "stdout",
     "output_type": "stream",
     "text": [
      "12\n"
     ]
    }
   ],
   "source": [
    "#print the last element of 3d array using negative indexing\n",
    "print(array3d[-1,-1,-1])"
   ]
  },
  {
   "cell_type": "code",
   "execution_count": 92,
   "id": "3a3ac70b-f4ea-40b7-be07-854c80e281c4",
   "metadata": {},
   "outputs": [
    {
     "name": "stdout",
     "output_type": "stream",
     "text": [
      "[2 3 4 5 6 4 4 5 3 7]\n",
      "[[1 2 3 4]\n",
      " [5 6 7 8]\n",
      " [5 3 8 9]]\n",
      "[[[1 2 3]\n",
      "  [2 3 4]]\n",
      "\n",
      " [[5 6 7]\n",
      "  [8 7 9]]]\n",
      "1d array: 6\n",
      "2d array: 3\n",
      "3d array: 8\n"
     ]
    }
   ],
   "source": [
    "arr1 = np.array([2,3,4,5,6,4,4,5,3,7])\n",
    "print(arr1)\n",
    "arr2 = np.array([[1,2,3,4],[5,6,7,8],[5,3,8,9]])\n",
    "print(arr2)\n",
    "arr3 = np.array([[[1,2,3],[2,3,4]],[[5,6,7],[8,7,9]]])\n",
    "print(arr3)\n",
    "print(\"1d array:\",arr1[4])\n",
    "print(\"2d array:\", arr2[2,1])\n",
    "print(\"3d array:\", arr3[1,1,0])"
   ]
  },
  {
   "cell_type": "code",
   "execution_count": 100,
   "id": "d65b4b76-6993-47d2-9faa-63de731e9c59",
   "metadata": {},
   "outputs": [
    {
     "name": "stdout",
     "output_type": "stream",
     "text": [
      "9\n",
      "3\n",
      "18\n"
     ]
    }
   ],
   "source": [
    "print(np.add(arr1[4],arr2[2,1]))\n",
    "print(np.subtract(arr1[4],arr2[2,1]))\n",
    "print(np.multiply(arr1[4],arr2[2,1]))"
   ]
  },
  {
   "cell_type": "markdown",
   "id": "4d1405fe-0fb3-40bc-bda0-a340fa658653",
   "metadata": {},
   "source": [
    "#NumPy array slicing\n",
    "1. In python, slicing refers to moving elements from one index to another"
   ]
  },
  {
   "cell_type": "code",
   "execution_count": 105,
   "id": "9ffc0982-59a9-4795-850c-b4bdc6ffc06e",
   "metadata": {},
   "outputs": [
    {
     "name": "stdout",
     "output_type": "stream",
     "text": [
      "[4 3 5 6 8 9]\n"
     ]
    }
   ],
   "source": [
    "import numpy as np\n",
    "Employee_rating = np.array([1,4,3,5,6,8,9,10,12])\n",
    "print(Employee_rating[1:7])"
   ]
  },
  {
   "cell_type": "code",
   "execution_count": 109,
   "id": "0092da70-f0cb-47c1-b9ac-bcb31d12cc44",
   "metadata": {},
   "outputs": [
    {
     "name": "stdout",
     "output_type": "stream",
     "text": [
      "[33]\n"
     ]
    }
   ],
   "source": [
    "#Slicing 2d array\n",
    "Z = np.array([[11,22,33,44,55],[66,77,88,99,110]])\n",
    "print(Z[0,2:3])"
   ]
  },
  {
   "cell_type": "code",
   "execution_count": 111,
   "id": "3fb6ea22-42b9-4ffb-8294-bb05d1002f00",
   "metadata": {},
   "outputs": [
    {
     "name": "stdout",
     "output_type": "stream",
     "text": [
      "[13 34 58 69 44 56 45]\n"
     ]
    }
   ],
   "source": [
    "#Negative slicing\n",
    "Neg_slice= np.array([13,34,58,69,44,56,45,54])\n",
    "print(Neg_slice[:-1])"
   ]
  },
  {
   "cell_type": "markdown",
   "id": "75f315a5-b370-44ed-8f90-5c778028a37e",
   "metadata": {},
   "source": [
    "#Problem Statement:\n",
    "Creating arrays for slicing:\n",
    "Create a 1D NumPy array with at least 15 elements\n",
    "Create a 2D NumPy array with a minimum of 4 rows and 5 columns\n",
    "Create a 3D NumPy array with at least 2 matrices, each containing 3 rows and 4 columns\n",
    "Slicing 1D arrays:\n",
    "Perform and demonstrate different slices on the 1D array, explore it using step values\n",
    "Slicing 2D arrays:\n",
    "Slice rows and columns separately and in combination\n",
    "arr3 = np.array([[[1,2,3,4],[4,5,6,7],[6,7,8,9]],[[4,5,6,7],[6,7,8,9],[9,10,11,12]]])\n",
    "Slicing 3D arrays:\n",
    "Perform slicing to access different matrices, rows within matrices, and elements within rows\n",
    "Negative slicing:\n",
    "Implement negative slicing on 1D, 2D, and 3D arrays\n",
    "Compare the outcomes of negative slicing with positive slicing"
   ]
  },
  {
   "cell_type": "code",
   "execution_count": 9,
   "id": "7776245e-8055-4074-a279-fc0f05b30aac",
   "metadata": {},
   "outputs": [
    {
     "name": "stdout",
     "output_type": "stream",
     "text": [
      "[[1 2 3 4 5]\n",
      " [2 3 4 5 6]\n",
      " [3 4 5 6 7]\n",
      " [4 5 6 7 8]]\n",
      "[[[ 1  2  3  4]\n",
      "  [ 4  5  6  7]\n",
      "  [ 6  7  8  9]]\n",
      "\n",
      " [[ 4  5  6  7]\n",
      "  [ 6  7  8  9]\n",
      "  [ 9 10 11 12]]]\n"
     ]
    }
   ],
   "source": [
    "import numpy as np\n",
    "arr1 = np.array([1,2,3,4,5,6,7,8,9,10,11,12,13,14,15])\n",
    "arr2 = np.array([[1,2,3,4,5],[2,3,4,5,6],[3,4,5,6,7],[4,5,6,7,8]])\n",
    "print(arr2)\n",
    "arr3 = np.array([[[1,2,3,4],[4,5,6,7],[6,7,8,9]],[[4,5,6,7],[6,7,8,9],[9,10,11,12]]])\n",
    "print(arr3)"
   ]
  },
  {
   "cell_type": "code",
   "execution_count": 23,
   "id": "c34623e4-c9ac-490d-8772-cf44e2697ecb",
   "metadata": {},
   "outputs": [
    {
     "name": "stdout",
     "output_type": "stream",
     "text": [
      "[4 5 6]\n",
      "[ 3  5  7  9 11]\n"
     ]
    }
   ],
   "source": [
    "#1D array slicing\n",
    "print(arr1[3:6])\n",
    "print(arr1[2:12:2])"
   ]
  },
  {
   "cell_type": "code",
   "execution_count": 49,
   "id": "d77a4b8b-ac92-4381-ba2f-7900db74cd15",
   "metadata": {},
   "outputs": [
    {
     "name": "stdout",
     "output_type": "stream",
     "text": [
      "2D array: [4]\n"
     ]
    }
   ],
   "source": [
    "#2D array slicing\n",
    "print(\"2D array:\",arr2[1,2:3])"
   ]
  },
  {
   "cell_type": "code",
   "execution_count": 47,
   "id": "349b297e-062a-4796-a783-601eadd76b15",
   "metadata": {},
   "outputs": [
    {
     "name": "stdout",
     "output_type": "stream",
     "text": [
      "3D array: [10]\n"
     ]
    }
   ],
   "source": [
    "#3D array slicing\n",
    "print(\"3D array:\",arr3[1,2,1:2])"
   ]
  },
  {
   "cell_type": "code",
   "execution_count": 43,
   "id": "6709a506-8dfb-4d29-b946-1c67c56b8ad0",
   "metadata": {},
   "outputs": [
    {
     "name": "stdout",
     "output_type": "stream",
     "text": [
      "[1 2 3 4 5 6 7 8 9]\n",
      "[4 5 6]\n",
      "[8 9]\n"
     ]
    }
   ],
   "source": [
    "#negative slicing for 1d array\n",
    "negative_slice1 = arr1[:-6]\n",
    "print(negative_slice1)\n",
    "#negative slicing for 2d array\n",
    "negative_slice2 = arr2[-1, :-2]\n",
    "print(negative_slice2)\n",
    "#negative slicing for 3d array\n",
    "negative_slice3 = arr3[-1, -2, -2:] \n",
    "print(negative_slice3)"
   ]
  },
  {
   "cell_type": "markdown",
   "id": "277532dc-a0ad-45f8-afe6-2225233ab79a",
   "metadata": {},
   "source": [
    "Problem Statement:\n",
    "You are working with a dataset in which each feature has different units and scales, which might affect the performance of your machine learning algorithm. Your task is to normalize the data so that each feature has a mean of 0 and a standard deviation of 1.\n",
    "\n",
    "The dataset is a NumPy array with the following structure:\n",
    "data = np.array([\n",
    "[15, 2000, 10],\n",
    "[20, 2200, 15],\n",
    "[18, 2100, 12],\n",
    "[25, 2300, 20],\n",
    "[30, 2500, 25]\n",
    "])\n",
    "Write a Python code using NumPy to:\n",
    "1. Normalize the dataset so that each feature (column) has a mean of 0 and a standard deviation of 1.\n",
    "2. Verify the results by printing the mean and standard deviation of each column of the normalized data.\n",
    "Expected Output:\n",
    "1. The mean of each column after normalization should be approximately 0.\n",
    "2. The standard deviation of each column after normalization should be 1."
   ]
  },
  {
   "cell_type": "code",
   "execution_count": 102,
   "id": "ef3b5920-b7a5-4f28-abe9-37e7be44e60f",
   "metadata": {},
   "outputs": [
    {
     "name": "stdout",
     "output_type": "stream",
     "text": [
      "The  mean is: 752.6666666666666\n",
      "The std is: 1042.3166931834533\n",
      "Normalized Data: [[-0.70771837  1.19669323 -0.71251537]\n",
      " [-0.70292136  1.38857349 -0.70771837]\n",
      " [-0.70484016  1.29263336 -0.71059657]\n",
      " [-0.69812435  1.48451363 -0.70292136]\n",
      " [-0.69332735  1.67639389 -0.69812435]]\n",
      "\n",
      "Mean after normalization: 0\n",
      "\n",
      "Standard deviation after normalization: 1.0\n"
     ]
    }
   ],
   "source": [
    "import numpy as np\n",
    "data = np.array([\n",
    "[15, 2000, 10],\n",
    "[20, 2200, 15],\n",
    "[18, 2100, 12],\n",
    "[25, 2300, 20],\n",
    "[30, 2500, 25]\n",
    "])\n",
    "U = np.mean(data)\n",
    "print(\"The  mean is:\", U)\n",
    "V = np.std(data)\n",
    "print(\"The std is:\", V)\n",
    "norm = (data-U)/V\n",
    "norm_mean = round(np.mean(norm))\n",
    "norm_std = np.std(norm)\n",
    "\n",
    "print(\"Normalized Data:\", norm)\n",
    "\n",
    "print(\"\\nMean after normalization:\", norm_mean)\n",
    "\n",
    "print(\"\\nStandard deviation after normalization:\", norm_std)"
   ]
  },
  {
   "cell_type": "code",
   "execution_count": 5,
   "id": "6cd106ca-4bfb-4a83-8baf-e1e26c1dac44",
   "metadata": {},
   "outputs": [
    {
     "name": "stdout",
     "output_type": "stream",
     "text": [
      "0    4\n",
      "1    6\n",
      "2    8\n",
      "3    4\n",
      "4    8\n",
      "dtype: int64\n",
      "a    4\n",
      "b    6\n",
      "c    8\n",
      "d    4\n",
      "e    8\n",
      "dtype: int64\n",
      "a    1\n",
      "b    2\n",
      "c    4\n",
      "d    6\n",
      "dtype: int64\n"
     ]
    }
   ],
   "source": [
    "#Creating and accessing pandas using different methods\n",
    "import pandas as pd\n",
    "data = [4, 6, 8, 4, 8]\n",
    "series = pd.Series(data)\n",
    "print(series)\n",
    "index = ['a','b','c','d','e']\n",
    "series_with_index = pd.Series(data, index=index) # Changed to create a Series with the specified index\n",
    "print(series_with_index)\n",
    "d = {\"a\":1,\"b\":2,\"c\":4,\"d\":6}\n",
    "series = pd.Series(d)\n",
    "print(series)"
   ]
  },
  {
   "cell_type": "code",
   "execution_count": 7,
   "id": "f3a0feb4-7e72-43fb-80bf-c56365f413ac",
   "metadata": {},
   "outputs": [
    {
     "name": "stdout",
     "output_type": "stream",
     "text": [
      "a    1\n",
      "b    2\n",
      "c    4\n",
      "dtype: int64\n",
      "b    2\n",
      "c    4\n",
      "d    6\n",
      "dtype: int64\n",
      "count    4.000000\n",
      "mean     3.250000\n",
      "std      2.217356\n",
      "min      1.000000\n",
      "25%      1.750000\n",
      "50%      3.000000\n",
      "75%      4.500000\n",
      "max      6.000000\n",
      "dtype: float64\n",
      "[1 2 4 6]\n",
      "a     5.0\n",
      "b     8.0\n",
      "c    12.0\n",
      "d    10.0\n",
      "e     NaN\n",
      "dtype: float64\n"
     ]
    }
   ],
   "source": [
    "first_n_rows = series.head(3)\n",
    "print(first_n_rows)\n",
    "last_n_rows = series.tail(3)\n",
    "print(last_n_rows)\n",
    "stats = series.describe()\n",
    "print(stats)\n",
    "unique_value = series.unique()\n",
    "print(unique_value)\n",
    "sum_with_series = series + series_with_index\n",
    "print(sum_with_series)"
   ]
  },
  {
   "cell_type": "code",
   "execution_count": 23,
   "id": "7c233428-fcc4-4a60-b24b-93b599d0aa59",
   "metadata": {},
   "outputs": [
    {
     "name": "stdout",
     "output_type": "stream",
     "text": [
      "a     5.0\n",
      "b     8.0\n",
      "c    12.0\n",
      "d    10.0\n",
      "e     NaN\n",
      "dtype: float64\n",
      "a     2\n",
      "b     4\n",
      "c     8\n",
      "d    12\n",
      "dtype: int64\n"
     ]
    }
   ],
   "source": [
    "sum_series=series+series\n",
    "print(sum_series)"
   ]
  },
  {
   "cell_type": "code",
   "execution_count": 27,
   "id": "7b61f32c-cc51-487e-9db0-eb05cda4c594",
   "metadata": {},
   "outputs": [
    {
     "name": "stdout",
     "output_type": "stream",
     "text": [
      "a     1\n",
      "b     4\n",
      "c    16\n",
      "d    36\n",
      "dtype: int64\n",
      "a    False\n",
      "b    False\n",
      "c    False\n",
      "d    False\n",
      "e     True\n",
      "dtype: bool\n",
      "a     5.0\n",
      "b     8.0\n",
      "c    12.0\n",
      "d    10.0\n",
      "e     0.0\n",
      "dtype: float64\n"
     ]
    }
   ],
   "source": [
    "square_series = series.apply(lambda x: x**2)\n",
    "print(square_series)\n",
    "s=series+series_with_index\n",
    "null_values = s.isnull()\n",
    "print(null_values)\n",
    "fill_null_val = s.fillna(0)\n",
    "print(fill_null_val)"
   ]
  },
  {
   "cell_type": "code",
   "execution_count": 37,
   "id": "961a7761-f73e-4913-98ee-3fc5dc8892f4",
   "metadata": {},
   "outputs": [
    {
     "name": "stdout",
     "output_type": "stream",
     "text": [
      "a    1\n",
      "b    2\n",
      "c    4\n",
      "d    6\n",
      "dtype: int64\n"
     ]
    }
   ],
   "source": [
    "#Querying a Series\n",
    "#select element greater than 10\n",
    "greater = series[series<=10]\n",
    "print(greater)"
   ]
  },
  {
   "cell_type": "markdown",
   "id": "2afed210-7aaa-4875-af65-540e59ba88c1",
   "metadata": {},
   "source": [
    "sales_data = [120,150,130,170,160,180,140]\n",
    "days_of_week = ['Monday','Tuesday','Wednesday','Thrusday','Friday','Saturday']"
   ]
  },
  {
   "cell_type": "code",
   "execution_count": 12,
   "id": "5938e8bb-934e-4d4e-ade7-13e99db47152",
   "metadata": {},
   "outputs": [
    {
     "name": "stdout",
     "output_type": "stream",
     "text": [
      "0    120\n",
      "1    150\n",
      "2    130\n",
      "3    170\n",
      "4    160\n",
      "5    180\n",
      "6    140\n",
      "dtype: int64\n",
      "Monday       120\n",
      "Tuesday      150\n",
      "Wednesday    130\n",
      "Thrusday     170\n",
      "Friday       160\n",
      "Saturday     180\n",
      "Sunday       140\n",
      "dtype: int64\n"
     ]
    }
   ],
   "source": [
    "import pandas as pd\n",
    "sales_data = [120,150,130,170,160,180,140]\n",
    "sales = pd.Series(sales_data)\n",
    "print(sales)\n",
    "days_of_week = ['Monday','Tuesday','Wednesday','Thrusday','Friday','Saturday','Sunday']\n",
    "daily_sales = pd.Series(sales_data, index = days_of_week)\n",
    "print(daily_sales)"
   ]
  },
  {
   "cell_type": "code",
   "execution_count": 16,
   "id": "52822f61-f076-451f-bf7c-3b70639d17e6",
   "metadata": {},
   "outputs": [
    {
     "name": "stdout",
     "output_type": "stream",
     "text": [
      "160\n"
     ]
    }
   ],
   "source": [
    "day1 = daily_sales['Friday']\n",
    "print(day1)"
   ]
  },
  {
   "cell_type": "code",
   "execution_count": 30,
   "id": "acbb2de1-da59-449a-9971-a4ee4cc0d3d6",
   "metadata": {},
   "outputs": [
    {
     "name": "stdout",
     "output_type": "stream",
     "text": [
      "1050\n"
     ]
    }
   ],
   "source": [
    "#Calculate total sales of the week\n",
    "total_sale = daily_sales.sum()\n",
    "print(total_sale)"
   ]
  },
  {
   "cell_type": "code",
   "execution_count": 56,
   "id": "3ee945da-a713-43d8-800b-1cbc15cf5957",
   "metadata": {},
   "outputs": [
    {
     "name": "stdout",
     "output_type": "stream",
     "text": [
      "Day with highest sales: Saturday\n",
      "Day with lowest sales: Monday\n"
     ]
    }
   ],
   "source": [
    "#Identify the day with the highest and lowest sales\n",
    "highest_sales = daily_sales.idxmax()  \n",
    "lowest_sales = daily_sales.idxmin()  \n",
    "\n",
    "print(\"Day with highest sales:\", highest_sales)  \n",
    "print(\"Day with lowest sales:\", lowest_sales) "
   ]
  },
  {
   "cell_type": "code",
   "execution_count": 28,
   "id": "9e5b718a-b0d9-4e03-a728-3db88318ed0b",
   "metadata": {},
   "outputs": [
    {
     "name": "stdout",
     "output_type": "stream",
     "text": [
      "150.0\n"
     ]
    }
   ],
   "source": [
    "#Average sales for the week\n",
    "avg_sale = daily_sales.mean()\n",
    "print(avg_sale)"
   ]
  },
  {
   "cell_type": "code",
   "execution_count": 54,
   "id": "d63f5016-2ae2-4c56-9c7f-3577d45c7a7f",
   "metadata": {},
   "outputs": [
    {
     "name": "stdout",
     "output_type": "stream",
     "text": [
      "This are days different from average:\n",
      " Monday        True\n",
      "Tuesday      False\n",
      "Wednesday     True\n",
      "Thrusday      True\n",
      "Friday        True\n",
      "Saturday      True\n",
      "Sunday        True\n",
      "dtype: bool\n"
     ]
    }
   ],
   "source": [
    "diff_sale = (daily_sales != avg_sale)\n",
    "print(\"This are days different from average:\\n\",diff_sale)"
   ]
  },
  {
   "cell_type": "code",
   "execution_count": null,
   "id": "9d022c59-d628-42b3-9bc4-f683eba80e84",
   "metadata": {},
   "outputs": [],
   "source": []
  },
  {
   "cell_type": "code",
   "execution_count": null,
   "id": "5c445a91-b1c2-4e15-a268-3499818f7859",
   "metadata": {},
   "outputs": [],
   "source": []
  }
 ],
 "metadata": {
  "kernelspec": {
   "display_name": "Python 3 (ipykernel)",
   "language": "python",
   "name": "python3"
  },
  "language_info": {
   "codemirror_mode": {
    "name": "ipython",
    "version": 3
   },
   "file_extension": ".py",
   "mimetype": "text/x-python",
   "name": "python",
   "nbconvert_exporter": "python",
   "pygments_lexer": "ipython3",
   "version": "3.12.4"
  }
 },
 "nbformat": 4,
 "nbformat_minor": 5
}
